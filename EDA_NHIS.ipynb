{
 "cells": [
  {
   "cell_type": "markdown",
   "id": "5b7e939d",
   "metadata": {},
   "source": [
    " CSV file found at: https://ftp.cdc.gov/pub/Health_Statistics/NCHS/Datasets/NHIS/2019/adult19csv.zip"
   ]
  },
  {
   "cell_type": "markdown",
   "id": "bec8c99a",
   "metadata": {},
   "source": [
    "Codebook for variables in data: https://ftp.cdc.gov/pub/Health_Statistics/NCHS/Dataset_Documentation/NHIS/2019/adult-codebook.pdf"
   ]
  },
  {
   "cell_type": "code",
   "execution_count": 4,
   "id": "835f5d39",
   "metadata": {},
   "outputs": [],
   "source": [
    "import pandas as pd"
   ]
  },
  {
   "cell_type": "code",
   "execution_count": 5,
   "id": "8b744336",
   "metadata": {},
   "outputs": [],
   "source": [
    "nhis = pd.read_csv('raw_data/adult19.csv')"
   ]
  },
  {
   "cell_type": "code",
   "execution_count": 6,
   "id": "0c8bd8a4",
   "metadata": {},
   "outputs": [
    {
     "data": {
      "text/html": [
       "<div>\n",
       "<style scoped>\n",
       "    .dataframe tbody tr th:only-of-type {\n",
       "        vertical-align: middle;\n",
       "    }\n",
       "\n",
       "    .dataframe tbody tr th {\n",
       "        vertical-align: top;\n",
       "    }\n",
       "\n",
       "    .dataframe thead th {\n",
       "        text-align: right;\n",
       "    }\n",
       "</style>\n",
       "<table border=\"1\" class=\"dataframe\">\n",
       "  <thead>\n",
       "    <tr style=\"text-align: right;\">\n",
       "      <th></th>\n",
       "      <th>URBRRL</th>\n",
       "      <th>RATCAT_A</th>\n",
       "      <th>INCGRP_A</th>\n",
       "      <th>INCTCFLG_A</th>\n",
       "      <th>FAMINCTC_A</th>\n",
       "      <th>IMPINCFLG_A</th>\n",
       "      <th>PPSU</th>\n",
       "      <th>PSTRAT</th>\n",
       "      <th>HISPALLP_A</th>\n",
       "      <th>RACEALLP_A</th>\n",
       "      <th>...</th>\n",
       "      <th>PROXYREL_A</th>\n",
       "      <th>PROXY_A</th>\n",
       "      <th>AVAIL_A</th>\n",
       "      <th>HHSTAT_A</th>\n",
       "      <th>INTV_QRT</th>\n",
       "      <th>RECTYPE</th>\n",
       "      <th>WTFA_A</th>\n",
       "      <th>WTIA_A</th>\n",
       "      <th>HHX</th>\n",
       "      <th>POVRATTC_A</th>\n",
       "    </tr>\n",
       "  </thead>\n",
       "  <tbody>\n",
       "    <tr>\n",
       "      <th>0</th>\n",
       "      <td>4</td>\n",
       "      <td>9</td>\n",
       "      <td>3</td>\n",
       "      <td>0</td>\n",
       "      <td>60000</td>\n",
       "      <td>2</td>\n",
       "      <td>2</td>\n",
       "      <td>122</td>\n",
       "      <td>3</td>\n",
       "      <td>2</td>\n",
       "      <td>...</td>\n",
       "      <td>NaN</td>\n",
       "      <td>NaN</td>\n",
       "      <td>1</td>\n",
       "      <td>1</td>\n",
       "      <td>1</td>\n",
       "      <td>10</td>\n",
       "      <td>13177.008</td>\n",
       "      <td>7601.336</td>\n",
       "      <td>H048109</td>\n",
       "      <td>2.96</td>\n",
       "    </tr>\n",
       "    <tr>\n",
       "      <th>1</th>\n",
       "      <td>4</td>\n",
       "      <td>9</td>\n",
       "      <td>3</td>\n",
       "      <td>0</td>\n",
       "      <td>50000</td>\n",
       "      <td>0</td>\n",
       "      <td>2</td>\n",
       "      <td>122</td>\n",
       "      <td>2</td>\n",
       "      <td>1</td>\n",
       "      <td>...</td>\n",
       "      <td>NaN</td>\n",
       "      <td>NaN</td>\n",
       "      <td>1</td>\n",
       "      <td>1</td>\n",
       "      <td>1</td>\n",
       "      <td>10</td>\n",
       "      <td>6140.552</td>\n",
       "      <td>3344.434</td>\n",
       "      <td>H027044</td>\n",
       "      <td>2.97</td>\n",
       "    </tr>\n",
       "    <tr>\n",
       "      <th>2</th>\n",
       "      <td>4</td>\n",
       "      <td>12</td>\n",
       "      <td>3</td>\n",
       "      <td>0</td>\n",
       "      <td>65000</td>\n",
       "      <td>1</td>\n",
       "      <td>2</td>\n",
       "      <td>122</td>\n",
       "      <td>2</td>\n",
       "      <td>1</td>\n",
       "      <td>...</td>\n",
       "      <td>NaN</td>\n",
       "      <td>NaN</td>\n",
       "      <td>1</td>\n",
       "      <td>1</td>\n",
       "      <td>1</td>\n",
       "      <td>10</td>\n",
       "      <td>9191.061</td>\n",
       "      <td>6949.498</td>\n",
       "      <td>H058855</td>\n",
       "      <td>4.28</td>\n",
       "    </tr>\n",
       "    <tr>\n",
       "      <th>3</th>\n",
       "      <td>4</td>\n",
       "      <td>14</td>\n",
       "      <td>5</td>\n",
       "      <td>0</td>\n",
       "      <td>120000</td>\n",
       "      <td>0</td>\n",
       "      <td>2</td>\n",
       "      <td>122</td>\n",
       "      <td>1</td>\n",
       "      <td>8</td>\n",
       "      <td>...</td>\n",
       "      <td>NaN</td>\n",
       "      <td>NaN</td>\n",
       "      <td>1</td>\n",
       "      <td>1</td>\n",
       "      <td>1</td>\n",
       "      <td>10</td>\n",
       "      <td>7900.035</td>\n",
       "      <td>6446.327</td>\n",
       "      <td>H031993</td>\n",
       "      <td>7.13</td>\n",
       "    </tr>\n",
       "    <tr>\n",
       "      <th>4</th>\n",
       "      <td>1</td>\n",
       "      <td>4</td>\n",
       "      <td>1</td>\n",
       "      <td>0</td>\n",
       "      <td>30000</td>\n",
       "      <td>0</td>\n",
       "      <td>2</td>\n",
       "      <td>115</td>\n",
       "      <td>2</td>\n",
       "      <td>1</td>\n",
       "      <td>...</td>\n",
       "      <td>NaN</td>\n",
       "      <td>NaN</td>\n",
       "      <td>1</td>\n",
       "      <td>1</td>\n",
       "      <td>1</td>\n",
       "      <td>10</td>\n",
       "      <td>10875.772</td>\n",
       "      <td>8646.586</td>\n",
       "      <td>H007122</td>\n",
       "      <td>1.13</td>\n",
       "    </tr>\n",
       "  </tbody>\n",
       "</table>\n",
       "<p>5 rows × 534 columns</p>\n",
       "</div>"
      ],
      "text/plain": [
       "   URBRRL  RATCAT_A  INCGRP_A  INCTCFLG_A  FAMINCTC_A  IMPINCFLG_A  PPSU  \\\n",
       "0       4         9         3           0       60000            2     2   \n",
       "1       4         9         3           0       50000            0     2   \n",
       "2       4        12         3           0       65000            1     2   \n",
       "3       4        14         5           0      120000            0     2   \n",
       "4       1         4         1           0       30000            0     2   \n",
       "\n",
       "   PSTRAT  HISPALLP_A  RACEALLP_A  ...  PROXYREL_A  PROXY_A  AVAIL_A  \\\n",
       "0     122           3           2  ...         NaN      NaN        1   \n",
       "1     122           2           1  ...         NaN      NaN        1   \n",
       "2     122           2           1  ...         NaN      NaN        1   \n",
       "3     122           1           8  ...         NaN      NaN        1   \n",
       "4     115           2           1  ...         NaN      NaN        1   \n",
       "\n",
       "   HHSTAT_A  INTV_QRT  RECTYPE     WTFA_A    WTIA_A      HHX  POVRATTC_A  \n",
       "0         1         1       10  13177.008  7601.336  H048109        2.96  \n",
       "1         1         1       10   6140.552  3344.434  H027044        2.97  \n",
       "2         1         1       10   9191.061  6949.498  H058855        4.28  \n",
       "3         1         1       10   7900.035  6446.327  H031993        7.13  \n",
       "4         1         1       10  10875.772  8646.586  H007122        1.13  \n",
       "\n",
       "[5 rows x 534 columns]"
      ]
     },
     "execution_count": 6,
     "metadata": {},
     "output_type": "execute_result"
    }
   ],
   "source": [
    "nhis.head()"
   ]
  },
  {
   "cell_type": "markdown",
   "id": "fb371f58",
   "metadata": {},
   "source": [
    "# Questions represented by Variables and page number from CodeBook: "
   ]
  },
  {
   "cell_type": "markdown",
   "id": "e9896134",
   "metadata": {},
   "source": [
    "PREDIB_A (pg 117)- Has a doctor or other health professional EVER told you that you had\n",
    "prediabetes or borderline diabetes?"
   ]
  },
  {
   "cell_type": "markdown",
   "id": "9a100b53",
   "metadata": {},
   "source": [
    "GESDIB_A (pg 118)- Has a doctor or other health professional EVER told you that you had\n",
    "gestational diabetes, a type of diabetes that occurs ONLY during pregnancy?"
   ]
  },
  {
   "cell_type": "markdown",
   "id": "db008231",
   "metadata": {},
   "source": [
    "DIBEV_A (pg 119)- Has/Not including (gestational diabetes, prediabetes) a doctor or other health professional EVER told you that you had\n",
    "diabetes?"
   ]
  },
  {
   "cell_type": "markdown",
   "id": "ecb4fa98",
   "metadata": {},
   "source": [
    "DIBAGETC_A (pg 120)- Age first diagnosed w/diabetes"
   ]
  },
  {
   "cell_type": "markdown",
   "id": "dfd9f3f0",
   "metadata": {},
   "source": [
    "DIFYRSTC_A (pg 121)- Years since first diagnosed w/diabetes"
   ]
  },
  {
   "cell_type": "markdown",
   "id": "b96ccc7c",
   "metadata": {},
   "source": [
    "DIBPILL_A (pg 122)- Are you NOW taking diabetic pills to lower your blood sugar? These are\n",
    "sometimes called oral agents or oral hypoglycemic agents."
   ]
  },
  {
   "cell_type": "markdown",
   "id": "37898fa9",
   "metadata": {},
   "source": [
    "DIBINS_A (pg 123)- Insulin can be taken by shot or pump. Are you NOW taking insulin?"
   ]
  },
  {
   "cell_type": "markdown",
   "id": "7c3e26c2",
   "metadata": {},
   "source": [
    "DIBINSTIME_A (pg 124)- Thinking back to when you were first diagnosed with diabetes, how long was it\n",
    "before you started taking insulin?"
   ]
  },
  {
   "cell_type": "markdown",
   "id": "b641858a",
   "metadata": {},
   "source": [
    " DIBINSSTOP_A (pg 125)- Since you started taking insulin, have you ever stopped taking it for more\n",
    "than 6 months?"
   ]
  },
  {
   "cell_type": "markdown",
   "id": "5ded0ede",
   "metadata": {},
   "source": [
    "DIBINSSTYR_A (pg 126)- Was this only during the first year after you were diagnosed with diabetes?"
   ]
  },
  {
   "cell_type": "markdown",
   "id": "8a67bea4",
   "metadata": {},
   "source": [
    "DIBTYPE_A (pg 127)- \n",
    "According to your doctor or other health professional, what type of diabetes\n",
    "do you have? Is it type 1, type 2, or some other type? If you don't remember\n",
    "or weren't told, that's OK."
   ]
  },
  {
   "cell_type": "code",
   "execution_count": 7,
   "id": "74e866bd",
   "metadata": {},
   "outputs": [],
   "source": [
    "survey_df = pd.DataFrame(data=nhis)"
   ]
  },
  {
   "cell_type": "code",
   "execution_count": 8,
   "id": "d7210716",
   "metadata": {},
   "outputs": [
    {
     "data": {
      "text/html": [
       "<div>\n",
       "<style scoped>\n",
       "    .dataframe tbody tr th:only-of-type {\n",
       "        vertical-align: middle;\n",
       "    }\n",
       "\n",
       "    .dataframe tbody tr th {\n",
       "        vertical-align: top;\n",
       "    }\n",
       "\n",
       "    .dataframe thead th {\n",
       "        text-align: right;\n",
       "    }\n",
       "</style>\n",
       "<table border=\"1\" class=\"dataframe\">\n",
       "  <thead>\n",
       "    <tr style=\"text-align: right;\">\n",
       "      <th></th>\n",
       "      <th>URBRRL</th>\n",
       "      <th>RATCAT_A</th>\n",
       "      <th>INCGRP_A</th>\n",
       "      <th>INCTCFLG_A</th>\n",
       "      <th>FAMINCTC_A</th>\n",
       "      <th>IMPINCFLG_A</th>\n",
       "      <th>PPSU</th>\n",
       "      <th>PSTRAT</th>\n",
       "      <th>HISPALLP_A</th>\n",
       "      <th>RACEALLP_A</th>\n",
       "      <th>...</th>\n",
       "      <th>PROXYREL_A</th>\n",
       "      <th>PROXY_A</th>\n",
       "      <th>AVAIL_A</th>\n",
       "      <th>HHSTAT_A</th>\n",
       "      <th>INTV_QRT</th>\n",
       "      <th>RECTYPE</th>\n",
       "      <th>WTFA_A</th>\n",
       "      <th>WTIA_A</th>\n",
       "      <th>HHX</th>\n",
       "      <th>POVRATTC_A</th>\n",
       "    </tr>\n",
       "  </thead>\n",
       "  <tbody>\n",
       "    <tr>\n",
       "      <th>0</th>\n",
       "      <td>4</td>\n",
       "      <td>9</td>\n",
       "      <td>3</td>\n",
       "      <td>0</td>\n",
       "      <td>60000</td>\n",
       "      <td>2</td>\n",
       "      <td>2</td>\n",
       "      <td>122</td>\n",
       "      <td>3</td>\n",
       "      <td>2</td>\n",
       "      <td>...</td>\n",
       "      <td>NaN</td>\n",
       "      <td>NaN</td>\n",
       "      <td>1</td>\n",
       "      <td>1</td>\n",
       "      <td>1</td>\n",
       "      <td>10</td>\n",
       "      <td>13177.008</td>\n",
       "      <td>7601.336</td>\n",
       "      <td>H048109</td>\n",
       "      <td>2.96</td>\n",
       "    </tr>\n",
       "    <tr>\n",
       "      <th>1</th>\n",
       "      <td>4</td>\n",
       "      <td>9</td>\n",
       "      <td>3</td>\n",
       "      <td>0</td>\n",
       "      <td>50000</td>\n",
       "      <td>0</td>\n",
       "      <td>2</td>\n",
       "      <td>122</td>\n",
       "      <td>2</td>\n",
       "      <td>1</td>\n",
       "      <td>...</td>\n",
       "      <td>NaN</td>\n",
       "      <td>NaN</td>\n",
       "      <td>1</td>\n",
       "      <td>1</td>\n",
       "      <td>1</td>\n",
       "      <td>10</td>\n",
       "      <td>6140.552</td>\n",
       "      <td>3344.434</td>\n",
       "      <td>H027044</td>\n",
       "      <td>2.97</td>\n",
       "    </tr>\n",
       "    <tr>\n",
       "      <th>2</th>\n",
       "      <td>4</td>\n",
       "      <td>12</td>\n",
       "      <td>3</td>\n",
       "      <td>0</td>\n",
       "      <td>65000</td>\n",
       "      <td>1</td>\n",
       "      <td>2</td>\n",
       "      <td>122</td>\n",
       "      <td>2</td>\n",
       "      <td>1</td>\n",
       "      <td>...</td>\n",
       "      <td>NaN</td>\n",
       "      <td>NaN</td>\n",
       "      <td>1</td>\n",
       "      <td>1</td>\n",
       "      <td>1</td>\n",
       "      <td>10</td>\n",
       "      <td>9191.061</td>\n",
       "      <td>6949.498</td>\n",
       "      <td>H058855</td>\n",
       "      <td>4.28</td>\n",
       "    </tr>\n",
       "    <tr>\n",
       "      <th>3</th>\n",
       "      <td>4</td>\n",
       "      <td>14</td>\n",
       "      <td>5</td>\n",
       "      <td>0</td>\n",
       "      <td>120000</td>\n",
       "      <td>0</td>\n",
       "      <td>2</td>\n",
       "      <td>122</td>\n",
       "      <td>1</td>\n",
       "      <td>8</td>\n",
       "      <td>...</td>\n",
       "      <td>NaN</td>\n",
       "      <td>NaN</td>\n",
       "      <td>1</td>\n",
       "      <td>1</td>\n",
       "      <td>1</td>\n",
       "      <td>10</td>\n",
       "      <td>7900.035</td>\n",
       "      <td>6446.327</td>\n",
       "      <td>H031993</td>\n",
       "      <td>7.13</td>\n",
       "    </tr>\n",
       "    <tr>\n",
       "      <th>4</th>\n",
       "      <td>1</td>\n",
       "      <td>4</td>\n",
       "      <td>1</td>\n",
       "      <td>0</td>\n",
       "      <td>30000</td>\n",
       "      <td>0</td>\n",
       "      <td>2</td>\n",
       "      <td>115</td>\n",
       "      <td>2</td>\n",
       "      <td>1</td>\n",
       "      <td>...</td>\n",
       "      <td>NaN</td>\n",
       "      <td>NaN</td>\n",
       "      <td>1</td>\n",
       "      <td>1</td>\n",
       "      <td>1</td>\n",
       "      <td>10</td>\n",
       "      <td>10875.772</td>\n",
       "      <td>8646.586</td>\n",
       "      <td>H007122</td>\n",
       "      <td>1.13</td>\n",
       "    </tr>\n",
       "  </tbody>\n",
       "</table>\n",
       "<p>5 rows × 534 columns</p>\n",
       "</div>"
      ],
      "text/plain": [
       "   URBRRL  RATCAT_A  INCGRP_A  INCTCFLG_A  FAMINCTC_A  IMPINCFLG_A  PPSU  \\\n",
       "0       4         9         3           0       60000            2     2   \n",
       "1       4         9         3           0       50000            0     2   \n",
       "2       4        12         3           0       65000            1     2   \n",
       "3       4        14         5           0      120000            0     2   \n",
       "4       1         4         1           0       30000            0     2   \n",
       "\n",
       "   PSTRAT  HISPALLP_A  RACEALLP_A  ...  PROXYREL_A  PROXY_A  AVAIL_A  \\\n",
       "0     122           3           2  ...         NaN      NaN        1   \n",
       "1     122           2           1  ...         NaN      NaN        1   \n",
       "2     122           2           1  ...         NaN      NaN        1   \n",
       "3     122           1           8  ...         NaN      NaN        1   \n",
       "4     115           2           1  ...         NaN      NaN        1   \n",
       "\n",
       "   HHSTAT_A  INTV_QRT  RECTYPE     WTFA_A    WTIA_A      HHX  POVRATTC_A  \n",
       "0         1         1       10  13177.008  7601.336  H048109        2.96  \n",
       "1         1         1       10   6140.552  3344.434  H027044        2.97  \n",
       "2         1         1       10   9191.061  6949.498  H058855        4.28  \n",
       "3         1         1       10   7900.035  6446.327  H031993        7.13  \n",
       "4         1         1       10  10875.772  8646.586  H007122        1.13  \n",
       "\n",
       "[5 rows x 534 columns]"
      ]
     },
     "execution_count": 8,
     "metadata": {},
     "output_type": "execute_result"
    }
   ],
   "source": [
    "survey_df.head()"
   ]
  },
  {
   "cell_type": "code",
   "execution_count": 9,
   "id": "4e1e1a35",
   "metadata": {},
   "outputs": [
    {
     "name": "stdout",
     "output_type": "stream",
     "text": [
      "31997\n"
     ]
    }
   ],
   "source": [
    "total = len(survey_df.index)\n",
    "print(total)"
   ]
  },
  {
   "cell_type": "code",
   "execution_count": 10,
   "id": "2e8c7e21",
   "metadata": {},
   "outputs": [
    {
     "name": "stdout",
     "output_type": "stream",
     "text": [
      "       URBRRL  RATCAT_A  INCGRP_A  INCTCFLG_A  FAMINCTC_A  IMPINCFLG_A  PPSU  \\\n",
      "4           1         4         1           0       30000            0     2   \n",
      "5           1         9         2           0       40000            0     2   \n",
      "10          1         9         1           0       34301            2     3   \n",
      "32          4         1         1           0        5000            0     1   \n",
      "39          4         4         1           0       28900            0     1   \n",
      "...       ...       ...       ...         ...         ...          ...   ...   \n",
      "31948       4        14         4           0       92000            0    28   \n",
      "31959       2        11         2           0       45000            1    48   \n",
      "31965       4         6         1           0       20000            0    27   \n",
      "31968       4         5         1           0       25000            0    27   \n",
      "31974       4         3         1           0       12000            0    28   \n",
      "\n",
      "       PSTRAT  HISPALLP_A  RACEALLP_A  ...  PROXYREL_A  PROXY_A  AVAIL_A  \\\n",
      "4         115           2           1  ...         NaN      NaN        1   \n",
      "5         115           3           2  ...         NaN      NaN        1   \n",
      "10        115           3           2  ...         NaN      NaN        1   \n",
      "32        122           3           2  ...         NaN      NaN        1   \n",
      "39        123           5           4  ...         NaN      NaN        1   \n",
      "...       ...         ...         ...  ...         ...      ...      ...   \n",
      "31948     146           2           1  ...         NaN      NaN        1   \n",
      "31959     131           2           1  ...         NaN      NaN        1   \n",
      "31965     146           2           1  ...         NaN      NaN        1   \n",
      "31968     146           2           1  ...         NaN      NaN        1   \n",
      "31974     146           2           1  ...         NaN      NaN        1   \n",
      "\n",
      "       HHSTAT_A  INTV_QRT  RECTYPE     WTFA_A    WTIA_A      HHX  POVRATTC_A  \n",
      "4             1         1       10  10875.772  8646.586  H007122        1.13  \n",
      "5             1         1       10   7591.169  6390.479  H007736        2.63  \n",
      "10            1         1       10   8552.332  6737.107  H030584        2.62  \n",
      "32            1         1       10   4939.764  6901.203  H051516        0.29  \n",
      "39            1         1       10  11594.345  7895.606  H007727        1.11  \n",
      "...         ...       ...      ...        ...       ...      ...         ...  \n",
      "31948         1         4       10   5196.831  5806.889  H038287        6.06  \n",
      "31959         1         4       10   2685.493  2711.828  H030177        3.73  \n",
      "31965         1         4       10   3539.631  2942.632  H041222        1.66  \n",
      "31968         1         4       10  10068.737  7963.008  H051838        1.27  \n",
      "31974         1         4       10   3711.281  2737.710  H013564        0.91  \n",
      "\n",
      "[3355 rows x 534 columns]\n"
     ]
    }
   ],
   "source": [
    "diabetes = survey_df.loc[survey_df['DIBEV_A'] == 1]\n",
    "print(diabetes)"
   ]
  },
  {
   "cell_type": "markdown",
   "id": "ccf3db10",
   "metadata": {},
   "source": [
    "## Infomation about participants with diabetes in survey: "
   ]
  },
  {
   "cell_type": "code",
   "execution_count": 11,
   "id": "4b3832c6",
   "metadata": {},
   "outputs": [
    {
     "name": "stdout",
     "output_type": "stream",
     "text": [
      "Number with diabetes:  3355\n"
     ]
    }
   ],
   "source": [
    "total_w_diabetes = len(diabetes)\n",
    "print(\"Number with diabetes: \",total_w_diabetes)"
   ]
  },
  {
   "cell_type": "code",
   "execution_count": 12,
   "id": "345d7665",
   "metadata": {},
   "outputs": [
    {
     "name": "stdout",
     "output_type": "stream",
     "text": [
      "Percentage with diabetes in survey:  10.485358002312717 %\n"
     ]
    }
   ],
   "source": [
    "print(\"Percentage with diabetes in survey: \",(total_w_diabetes/total)*100,\"%\")"
   ]
  },
  {
   "cell_type": "code",
   "execution_count": 13,
   "id": "cec17924",
   "metadata": {},
   "outputs": [
    {
     "data": {
      "text/plain": [
       "4        60\n",
       "5        78\n",
       "10       63\n",
       "32       60\n",
       "39       74\n",
       "         ..\n",
       "31948    74\n",
       "31959    74\n",
       "31965    66\n",
       "31968    79\n",
       "31974    61\n",
       "Name: AGEP_A, Length: 3355, dtype: int64"
      ]
     },
     "execution_count": 13,
     "metadata": {},
     "output_type": "execute_result"
    }
   ],
   "source": [
    "diabetes[\"AGEP_A\"].replace({99: 0}) #replace response for don't know with 0 so age estimate is correct"
   ]
  },
  {
   "cell_type": "markdown",
   "id": "118aeccb",
   "metadata": {},
   "source": [
    "### Simple Demographics"
   ]
  },
  {
   "cell_type": "code",
   "execution_count": 14,
   "id": "d8974c31",
   "metadata": {},
   "outputs": [
    {
     "name": "stdout",
     "output_type": "stream",
     "text": [
      "Average age:  64.05365126676602\n"
     ]
    }
   ],
   "source": [
    "print(\"Average age: \",diabetes[\"AGEP_A\"].sum()/total_w_diabetes) "
   ]
  },
  {
   "cell_type": "code",
   "execution_count": 15,
   "id": "ac642a7c",
   "metadata": {},
   "outputs": [
    {
     "name": "stdout",
     "output_type": "stream",
     "text": [
      "Number of males with diabetes:  1618\n",
      "Percentage:  48.22652757078987 %\n"
     ]
    }
   ],
   "source": [
    "males = len(diabetes.loc[diabetes['SEX_A'] == 1])\n",
    "print(\"Number of males with diabetes: \",males)\n",
    "print(\"Percentage: \",males/total_w_diabetes*100,\"%\")"
   ]
  },
  {
   "cell_type": "code",
   "execution_count": 16,
   "id": "d15db566",
   "metadata": {},
   "outputs": [
    {
     "name": "stdout",
     "output_type": "stream",
     "text": [
      "Number of females with diabetes:  1737\n",
      "Percentage:  51.77347242921013 %\n"
     ]
    }
   ],
   "source": [
    "females = len(diabetes.loc[diabetes['SEX_A'] == 2])\n",
    "print(\"Number of females with diabetes: \",females)\n",
    "print(\"Percentage: \",females/total_w_diabetes*100,\"%\")"
   ]
  },
  {
   "cell_type": "markdown",
   "id": "f34daf19",
   "metadata": {},
   "source": [
    "### Education levels:"
   ]
  },
  {
   "cell_type": "code",
   "execution_count": 17,
   "id": "3056c6c4",
   "metadata": {},
   "outputs": [
    {
     "name": "stdout",
     "output_type": "stream",
     "text": [
      "Number with diabetes that did not graduate from high school:  560\n",
      "Percentage:  16.691505216095383 %\n"
     ]
    }
   ],
   "source": [
    "did_not_grad = len(diabetes.loc[diabetes['EDUC_A'] == 0])+ len(diabetes.loc[diabetes['EDUC_A'] == 1])+ len(diabetes.loc[diabetes['EDUC_A'] == 2])\n",
    "print(\"Number with diabetes that did not graduate from high school: \",did_not_grad)\n",
    "print(\"Percentage: \",did_not_grad/total_w_diabetes *100,\"%\")"
   ]
  },
  {
   "cell_type": "code",
   "execution_count": 18,
   "id": "b6493504",
   "metadata": {},
   "outputs": [
    {
     "name": "stdout",
     "output_type": "stream",
     "text": [
      "Number with diabetes that did graduate from high school:  1562\n",
      "Percentage:  46.557377049180324 %\n"
     ]
    }
   ],
   "source": [
    "high_school = len(diabetes.loc[diabetes['EDUC_A'] == 3])+ len(diabetes.loc[diabetes['EDUC_A'] == 4])+len(diabetes.loc[diabetes['EDUC_A'] == 5])\n",
    "print(\"Number with diabetes that did graduate from high school: \",high_school)\n",
    "print(\"Percentage: \",high_school/total_w_diabetes *100,\"%\")"
   ]
  },
  {
   "cell_type": "code",
   "execution_count": 19,
   "id": "4d650ca5",
   "metadata": {},
   "outputs": [
    {
     "name": "stdout",
     "output_type": "stream",
     "text": [
      "Number with diabetes that graduated from a college program:  924\n",
      "Percentage:  27.54098360655738 %\n"
     ]
    }
   ],
   "source": [
    "college_grad = len(diabetes.loc[diabetes['EDUC_A'] == 6])+ len(diabetes.loc[diabetes['EDUC_A'] == 7])+ len(diabetes.loc[diabetes['EDUC_A'] == 8])\n",
    "print(\"Number with diabetes that graduated from a college program: \", college_grad)\n",
    "print(\"Percentage: \",college_grad/total_w_diabetes *100,\"%\")"
   ]
  },
  {
   "cell_type": "code",
   "execution_count": 20,
   "id": "03a243c2",
   "metadata": {},
   "outputs": [
    {
     "name": "stdout",
     "output_type": "stream",
     "text": [
      "Number with diabetes that recieved an advanced or professional degree:  283\n",
      "Percentage:  8.435171385991058 %\n"
     ]
    }
   ],
   "source": [
    "advanced_degree = len(diabetes.loc[diabetes['EDUC_A'] == 9])+ len(diabetes.loc[diabetes['EDUC_A'] == 10])+ len(diabetes.loc[diabetes['EDUC_A'] == 11])\n",
    "print(\"Number with diabetes that recieved an advanced or professional degree: \", advanced_degree)\n",
    "print(\"Percentage: \",advanced_degree/total_w_diabetes *100,\"%\")"
   ]
  },
  {
   "cell_type": "markdown",
   "id": "5ae43ee7",
   "metadata": {},
   "source": [
    "### Comorbidity"
   ]
  },
  {
   "cell_type": "code",
   "execution_count": 21,
   "id": "2c5f187e",
   "metadata": {},
   "outputs": [
    {
     "name": "stdout",
     "output_type": "stream",
     "text": [
      "Number with Diabetes AND High Blood Pressure:  2522\n",
      "Percentage with both:  75.17138599105813 %\n"
     ]
    }
   ],
   "source": [
    "high_bp = len(diabetes.loc[diabetes['HYPEV_A'] == 1])\n",
    "print(\"Number with Diabetes AND High Blood Pressure: \",high_bp )\n",
    "print(\"Percentage with both: \",high_bp/total_w_diabetes*100,\"%\")"
   ]
  },
  {
   "cell_type": "code",
   "execution_count": 22,
   "id": "fa444290",
   "metadata": {},
   "outputs": [
    {
     "name": "stdout",
     "output_type": "stream",
     "text": [
      "Number with Diabetes AND High Cholesterol:  2129\n",
      "Percentage with both:  63.4575260804769 %\n"
     ]
    }
   ],
   "source": [
    "high_chol = len(diabetes.loc[diabetes['CHLEV_A'] == 1])\n",
    "print(\"Number with Diabetes AND High Cholesterol: \",high_chol )\n",
    "print(\"Percentage with both: \",high_chol/total_w_diabetes*100,\"%\")"
   ]
  },
  {
   "cell_type": "code",
   "execution_count": 23,
   "id": "71e3c275",
   "metadata": {},
   "outputs": [
    {
     "name": "stdout",
     "output_type": "stream",
     "text": [
      "Number with Diabetes AND Coronary Heart Disease:  603\n",
      "Percentage with both:  17.97317436661699 %\n"
     ]
    }
   ],
   "source": [
    "heart_dis = len(diabetes.loc[diabetes['CHDEV_A'] == 1])\n",
    "print(\"Number with Diabetes AND Coronary Heart Disease: \",heart_dis )\n",
    "print(\"Percentage with both: \",heart_dis/total_w_diabetes*100,\"%\")"
   ]
  },
  {
   "cell_type": "code",
   "execution_count": 24,
   "id": "2676e75b",
   "metadata": {},
   "outputs": [
    {
     "name": "stdout",
     "output_type": "stream",
     "text": [
      "Number with Diabetes AND Cancer:  599\n",
      "Percentage with both:  17.853949329359164 %\n"
     ]
    }
   ],
   "source": [
    "any_cancer = len(diabetes.loc[diabetes['CANEV_A'] == 1])\n",
    "print(\"Number with Diabetes AND Cancer: \",any_cancer )\n",
    "print(\"Percentage with both: \",any_cancer/total_w_diabetes*100,\"%\")"
   ]
  },
  {
   "cell_type": "markdown",
   "id": "5ebc8fc5",
   "metadata": {},
   "source": [
    "### Diabetes Treatment Information"
   ]
  },
  {
   "cell_type": "code",
   "execution_count": 25,
   "id": "83aadd97",
   "metadata": {},
   "outputs": [
    {
     "name": "stdout",
     "output_type": "stream",
     "text": [
      "Number taking pills for treatment:  2456\n",
      "Percentage:  73.20417287630401 %\n"
     ]
    }
   ],
   "source": [
    "pills = len(diabetes.loc[diabetes['DIBPILL_A'] == 1])\n",
    "print(\"Number taking pills for treatment: \",pills)\n",
    "print(\"Percentage: \",pills/total_w_diabetes*100,\"%\")"
   ]
  },
  {
   "cell_type": "code",
   "execution_count": 26,
   "id": "27e8a70a",
   "metadata": {},
   "outputs": [
    {
     "name": "stdout",
     "output_type": "stream",
     "text": [
      "Number taking insulin for treatment:  1069\n",
      "Percentage:  31.862891207153503 %\n"
     ]
    }
   ],
   "source": [
    "insulin = len(diabetes.loc[diabetes['DIBINS_A'] == 1])\n",
    "print(\"Number taking insulin for treatment: \",insulin)\n",
    "print(\"Percentage: \", insulin/total_w_diabetes*100,\"%\")"
   ]
  },
  {
   "cell_type": "code",
   "execution_count": 27,
   "id": "c96f6394",
   "metadata": {},
   "outputs": [
    {
     "name": "stdout",
     "output_type": "stream",
     "text": [
      "Number NOT taking pills OR insulin for treatment:  409\n",
      "Percentage NOT taking treatment:  12.190760059612519 %\n"
     ]
    }
   ],
   "source": [
    "no_insulin = diabetes.loc[diabetes['DIBINS_A'] == 2]\n",
    "no_treat = len(no_insulin.loc[no_insulin['DIBPILL_A'] == 2])\n",
    "print(\"Number NOT taking pills OR insulin for treatment: \",no_treat)\n",
    "print(\"Percentage NOT taking treatment: \",no_treat/total_w_diabetes*100,\"%\")"
   ]
  },
  {
   "cell_type": "markdown",
   "id": "6c0c11d5",
   "metadata": {},
   "source": [
    "### Looking at treatment and education level"
   ]
  },
  {
   "cell_type": "code",
   "execution_count": 28,
   "id": "b08abbeb",
   "metadata": {},
   "outputs": [
    {
     "name": "stdout",
     "output_type": "stream",
     "text": [
      "Number with diabetes that do not take treatment and did not graduate high school:  66\n",
      "Percentage:  16.13691931540342\n"
     ]
    }
   ],
   "source": [
    "no_treat = no_insulin.loc[no_insulin['DIBPILL_A'] == 2]\n",
    "no_treat_total = len(no_insulin.loc[no_insulin['DIBPILL_A'] == 2])\n",
    "no_treat_no_degree = len(no_treat.loc[no_treat['EDUC_A'] == 0]+ no_treat.loc[no_treat['EDUC_A'] == 1]+no_treat.loc[no_treat['EDUC_A'] == 2])\n",
    "print(\"Number with diabetes that do not take treatment and did not graduate high school: \",no_treat_no_degree)\n",
    "print(\"Percentage: \",no_treat_no_degree/no_treat_total*100)"
   ]
  },
  {
   "cell_type": "code",
   "execution_count": 29,
   "id": "3eed935c",
   "metadata": {},
   "outputs": [
    {
     "name": "stdout",
     "output_type": "stream",
     "text": [
      "Number with diabetes that do not take treatment and graduated high school:  168\n",
      "Percentage:  41.075794621026894\n"
     ]
    }
   ],
   "source": [
    "no_treat_hs_degree = len(no_treat.loc[no_treat['EDUC_A'] == 3]+ no_treat.loc[no_treat['EDUC_A'] == 4]+no_treat.loc[no_treat['EDUC_A'] == 5])\n",
    "print(\"Number with diabetes that do not take treatment and graduated high school: \",no_treat_hs_degree)\n",
    "print(\"Percentage: \",no_treat_hs_degree/no_treat_total*100)"
   ]
  },
  {
   "cell_type": "markdown",
   "id": "a5ba0c8f",
   "metadata": {},
   "source": [
    "### Insurance Data "
   ]
  },
  {
   "cell_type": "code",
   "execution_count": 34,
   "id": "1f121b80",
   "metadata": {},
   "outputs": [
    {
     "name": "stdout",
     "output_type": "stream",
     "text": [
      "Number with diabetes with health insurance coverage:  3189\n",
      "Number with diabetes without health insurance coverage:  158\n"
     ]
    }
   ],
   "source": [
    "insurance = len(diabetes.loc[diabetes['NOTCOV_A'] == 2])\n",
    "no_insurance = len(diabetes.loc[diabetes['NOTCOV_A'] == 1])\n",
    "print(\"Number with diabetes with health insurance coverage: \", insurance)\n",
    "print(\"Number with diabetes without health insurance coverage: \", no_insurance )\n"
   ]
  },
  {
   "cell_type": "code",
   "execution_count": 41,
   "id": "8b487afa",
   "metadata": {},
   "outputs": [
    {
     "name": "stdout",
     "output_type": "stream",
     "text": [
      "Perecentage with insurance: 95.0521609538003 %\n",
      "Pencentage without insurance 4.709388971684054 %\n"
     ]
    }
   ],
   "source": [
    "percentage_insurance = insurance/total_w_diabetes*100\n",
    "print(\"Perecentage with insurance:\",percentage_insurance,\"%\")\n",
    "\n",
    "pencentage_no_insurance = no_insurance/total_w_diabetes*100\n",
    "print(\"Pencentage without insurance\", pencentage_no_insurance,\"%\")"
   ]
  },
  {
   "cell_type": "markdown",
   "id": "975b4b1d",
   "metadata": {},
   "source": [
    "Insurance data also contains information about private, medicare, medicaid, other types.\n",
    "Insurance information is also split by age 65. "
   ]
  },
  {
   "cell_type": "markdown",
   "id": "6aa25ff8",
   "metadata": {},
   "source": [
    "Includes many questions about medicare coverage for 65+ starting on page 175 of codebook"
   ]
  },
  {
   "cell_type": "code",
   "execution_count": 49,
   "id": "290b5b79",
   "metadata": {},
   "outputs": [
    {
     "name": "stdout",
     "output_type": "stream",
     "text": [
      "53204.67421758569\n"
     ]
    }
   ],
   "source": [
    "income = sum(diabetes['FAMINCTC_A'])\n",
    "\n",
    "avg_income = income/total_w_diabetes\n",
    "\n",
    "print(avg_income)\n",
    "\n"
   ]
  },
  {
   "cell_type": "markdown",
   "id": "a8590679",
   "metadata": {},
   "source": [
    "Income data starts on page 501 of codebook"
   ]
  }
 ],
 "metadata": {
  "kernelspec": {
   "display_name": "Python 3 (ipykernel)",
   "language": "python",
   "name": "python3"
  },
  "language_info": {
   "codemirror_mode": {
    "name": "ipython",
    "version": 3
   },
   "file_extension": ".py",
   "mimetype": "text/x-python",
   "name": "python",
   "nbconvert_exporter": "python",
   "pygments_lexer": "ipython3",
   "version": "3.11.4"
  }
 },
 "nbformat": 4,
 "nbformat_minor": 5
}
