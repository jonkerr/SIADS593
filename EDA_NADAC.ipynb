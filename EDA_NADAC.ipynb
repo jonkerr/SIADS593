{
 "cells": [
  {
   "cell_type": "code",
   "execution_count": 1,
   "id": "1ce81e3e",
   "metadata": {},
   "outputs": [],
   "source": [
    "import pandas as pd"
   ]
  },
  {
   "cell_type": "code",
   "execution_count": 2,
   "id": "a989f4b9",
   "metadata": {},
   "outputs": [],
   "source": [
    "#dfs = []\n",
    "#years = [2019]\n",
    "#for y in years:\n",
    "    \n",
    "\n"
   ]
  },
  {
   "cell_type": "code",
   "execution_count": 4,
   "id": "ff209a23",
   "metadata": {},
   "outputs": [],
   "source": [
    "path = 'raw_data/nadac/nadac_pricing_2019.csv'\n",
    "df = pd.read_csv(path)"
   ]
  },
  {
   "cell_type": "code",
   "execution_count": 5,
   "id": "2ed5cdd2",
   "metadata": {},
   "outputs": [
    {
     "data": {
      "text/html": [
       "<div>\n",
       "<style scoped>\n",
       "    .dataframe tbody tr th:only-of-type {\n",
       "        vertical-align: middle;\n",
       "    }\n",
       "\n",
       "    .dataframe tbody tr th {\n",
       "        vertical-align: top;\n",
       "    }\n",
       "\n",
       "    .dataframe thead th {\n",
       "        text-align: right;\n",
       "    }\n",
       "</style>\n",
       "<table border=\"1\" class=\"dataframe\">\n",
       "  <thead>\n",
       "    <tr style=\"text-align: right;\">\n",
       "      <th></th>\n",
       "      <th>ndc_description</th>\n",
       "      <th>ndc</th>\n",
       "      <th>nadac_per_unit</th>\n",
       "      <th>effective_date</th>\n",
       "      <th>pricing_unit</th>\n",
       "      <th>pharmacy_type_indicator</th>\n",
       "      <th>otc</th>\n",
       "      <th>explanation_code</th>\n",
       "      <th>classification_for_rate_setting</th>\n",
       "      <th>corresponding_generic_drug_nadac_per_unit</th>\n",
       "      <th>corresponding_generic_drug_effective_date</th>\n",
       "      <th>as_of_date</th>\n",
       "    </tr>\n",
       "  </thead>\n",
       "  <tbody>\n",
       "    <tr>\n",
       "      <th>0</th>\n",
       "      <td>ENEMA</td>\n",
       "      <td>536741551</td>\n",
       "      <td>0.00585</td>\n",
       "      <td>12/19/2018</td>\n",
       "      <td>ML</td>\n",
       "      <td>C/I</td>\n",
       "      <td>Y</td>\n",
       "      <td>1, 5</td>\n",
       "      <td>G</td>\n",
       "      <td>NaN</td>\n",
       "      <td>NaN</td>\n",
       "      <td>01/02/2019</td>\n",
       "    </tr>\n",
       "    <tr>\n",
       "      <th>1</th>\n",
       "      <td>PHENTERMINE 30 MG CAPSULE</td>\n",
       "      <td>51224020250</td>\n",
       "      <td>0.14840</td>\n",
       "      <td>12/19/2018</td>\n",
       "      <td>EA</td>\n",
       "      <td>C/I</td>\n",
       "      <td>N</td>\n",
       "      <td>1</td>\n",
       "      <td>G</td>\n",
       "      <td>NaN</td>\n",
       "      <td>NaN</td>\n",
       "      <td>01/02/2019</td>\n",
       "    </tr>\n",
       "    <tr>\n",
       "      <th>2</th>\n",
       "      <td>PENICILLIN VK 125 MG/5 ML SOLN</td>\n",
       "      <td>93412573</td>\n",
       "      <td>0.06240</td>\n",
       "      <td>11/21/2018</td>\n",
       "      <td>ML</td>\n",
       "      <td>C/I</td>\n",
       "      <td>N</td>\n",
       "      <td>4, 5</td>\n",
       "      <td>G</td>\n",
       "      <td>NaN</td>\n",
       "      <td>NaN</td>\n",
       "      <td>01/02/2019</td>\n",
       "    </tr>\n",
       "  </tbody>\n",
       "</table>\n",
       "</div>"
      ],
      "text/plain": [
       "                  ndc_description          ndc  nadac_per_unit effective_date  \\\n",
       "0                           ENEMA    536741551         0.00585     12/19/2018   \n",
       "1       PHENTERMINE 30 MG CAPSULE  51224020250         0.14840     12/19/2018   \n",
       "2  PENICILLIN VK 125 MG/5 ML SOLN     93412573         0.06240     11/21/2018   \n",
       "\n",
       "  pricing_unit pharmacy_type_indicator otc explanation_code  \\\n",
       "0           ML                     C/I   Y             1, 5   \n",
       "1           EA                     C/I   N                1   \n",
       "2           ML                     C/I   N             4, 5   \n",
       "\n",
       "  classification_for_rate_setting  corresponding_generic_drug_nadac_per_unit  \\\n",
       "0                               G                                        NaN   \n",
       "1                               G                                        NaN   \n",
       "2                               G                                        NaN   \n",
       "\n",
       "  corresponding_generic_drug_effective_date  as_of_date  \n",
       "0                                       NaN  01/02/2019  \n",
       "1                                       NaN  01/02/2019  \n",
       "2                                       NaN  01/02/2019  "
      ]
     },
     "execution_count": 5,
     "metadata": {},
     "output_type": "execute_result"
    }
   ],
   "source": [
    "df.head(3)"
   ]
  },
  {
   "cell_type": "code",
   "execution_count": null,
   "id": "ee0628a4",
   "metadata": {},
   "outputs": [],
   "source": []
  }
 ],
 "metadata": {
  "kernelspec": {
   "display_name": "Python 3 (ipykernel)",
   "language": "python",
   "name": "python3"
  },
  "language_info": {
   "codemirror_mode": {
    "name": "ipython",
    "version": 3
   },
   "file_extension": ".py",
   "mimetype": "text/x-python",
   "name": "python",
   "nbconvert_exporter": "python",
   "pygments_lexer": "ipython3",
   "version": "3.8.13"
  }
 },
 "nbformat": 4,
 "nbformat_minor": 5
}
