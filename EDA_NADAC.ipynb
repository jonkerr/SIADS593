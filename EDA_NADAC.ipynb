{
 "cells": [
  {
   "cell_type": "markdown",
   "id": "a4ed9389",
   "metadata": {},
   "source": [
    "# NADAC EDA\n",
    "Explore the NADAC found at https://data.medicaid.gov/api/1/datastore/query/ba0c3734-8012-549a-8f50-2ff389d0e0ef/0/download"
   ]
  },
  {
   "cell_type": "code",
   "execution_count": 1,
   "id": "1ce81e3e",
   "metadata": {},
   "outputs": [],
   "source": [
    "import pandas as pd\n",
    "import numpy as np"
   ]
  },
  {
   "cell_type": "code",
   "execution_count": 2,
   "id": "ff209a23",
   "metadata": {},
   "outputs": [],
   "source": [
    "path = 'raw_data/nadac/nadac_pricing_2014.csv'\n",
    "df = pd.read_csv(path)"
   ]
  },
  {
   "cell_type": "markdown",
   "id": "69286ae8",
   "metadata": {},
   "source": [
    "### Examine the first 3 rows to get a feel for the data"
   ]
  },
  {
   "cell_type": "code",
   "execution_count": 3,
   "id": "2ed5cdd2",
   "metadata": {},
   "outputs": [
    {
     "data": {
      "text/html": [
       "<div>\n",
       "<style scoped>\n",
       "    .dataframe tbody tr th:only-of-type {\n",
       "        vertical-align: middle;\n",
       "    }\n",
       "\n",
       "    .dataframe tbody tr th {\n",
       "        vertical-align: top;\n",
       "    }\n",
       "\n",
       "    .dataframe thead th {\n",
       "        text-align: right;\n",
       "    }\n",
       "</style>\n",
       "<table border=\"1\" class=\"dataframe\">\n",
       "  <thead>\n",
       "    <tr style=\"text-align: right;\">\n",
       "      <th></th>\n",
       "      <th>ndc_description</th>\n",
       "      <th>ndc</th>\n",
       "      <th>nadac_per_unit</th>\n",
       "      <th>effective_date</th>\n",
       "      <th>pricing_unit</th>\n",
       "      <th>pharmacy_type_indicator</th>\n",
       "      <th>otc</th>\n",
       "      <th>explanation_code</th>\n",
       "      <th>classification_for_rate_setting</th>\n",
       "      <th>corresponding_generic_drug_nadac_per_unit</th>\n",
       "      <th>corresponding_generic_drug_effective_date</th>\n",
       "      <th>as_of_date</th>\n",
       "    </tr>\n",
       "  </thead>\n",
       "  <tbody>\n",
       "    <tr>\n",
       "      <th>0</th>\n",
       "      <td>M-END DM SYRUP</td>\n",
       "      <td>12830081016</td>\n",
       "      <td>0.05440</td>\n",
       "      <td>10/24/2013</td>\n",
       "      <td>ML</td>\n",
       "      <td>C/I</td>\n",
       "      <td>Y</td>\n",
       "      <td>4, 5</td>\n",
       "      <td>G</td>\n",
       "      <td>NaN</td>\n",
       "      <td>NaN</td>\n",
       "      <td>01/01/2014</td>\n",
       "    </tr>\n",
       "    <tr>\n",
       "      <th>1</th>\n",
       "      <td>PRAZOSIN 5 MG CAPSULE</td>\n",
       "      <td>93406905</td>\n",
       "      <td>0.43889</td>\n",
       "      <td>12/18/2013</td>\n",
       "      <td>EA</td>\n",
       "      <td>C/I</td>\n",
       "      <td>N</td>\n",
       "      <td>1</td>\n",
       "      <td>G</td>\n",
       "      <td>NaN</td>\n",
       "      <td>NaN</td>\n",
       "      <td>01/01/2014</td>\n",
       "    </tr>\n",
       "    <tr>\n",
       "      <th>2</th>\n",
       "      <td>TERAZOSIN 5 MG CAPSULE</td>\n",
       "      <td>60505011705</td>\n",
       "      <td>0.06319</td>\n",
       "      <td>12/18/2013</td>\n",
       "      <td>EA</td>\n",
       "      <td>C/I</td>\n",
       "      <td>N</td>\n",
       "      <td>1</td>\n",
       "      <td>G</td>\n",
       "      <td>NaN</td>\n",
       "      <td>NaN</td>\n",
       "      <td>01/01/2014</td>\n",
       "    </tr>\n",
       "  </tbody>\n",
       "</table>\n",
       "</div>"
      ],
      "text/plain": [
       "          ndc_description          ndc  nadac_per_unit effective_date  \\\n",
       "0          M-END DM SYRUP  12830081016         0.05440     10/24/2013   \n",
       "1   PRAZOSIN 5 MG CAPSULE     93406905         0.43889     12/18/2013   \n",
       "2  TERAZOSIN 5 MG CAPSULE  60505011705         0.06319     12/18/2013   \n",
       "\n",
       "  pricing_unit pharmacy_type_indicator otc explanation_code  \\\n",
       "0           ML                     C/I   Y             4, 5   \n",
       "1           EA                     C/I   N                1   \n",
       "2           EA                     C/I   N                1   \n",
       "\n",
       "  classification_for_rate_setting  corresponding_generic_drug_nadac_per_unit  \\\n",
       "0                               G                                        NaN   \n",
       "1                               G                                        NaN   \n",
       "2                               G                                        NaN   \n",
       "\n",
       "  corresponding_generic_drug_effective_date  as_of_date  \n",
       "0                                       NaN  01/01/2014  \n",
       "1                                       NaN  01/01/2014  \n",
       "2                                       NaN  01/01/2014  "
      ]
     },
     "execution_count": 3,
     "metadata": {},
     "output_type": "execute_result"
    }
   ],
   "source": [
    "df.head(3)"
   ]
  },
  {
   "cell_type": "code",
   "execution_count": 4,
   "id": "ee0628a4",
   "metadata": {},
   "outputs": [
    {
     "data": {
      "text/html": [
       "<div>\n",
       "<style scoped>\n",
       "    .dataframe tbody tr th:only-of-type {\n",
       "        vertical-align: middle;\n",
       "    }\n",
       "\n",
       "    .dataframe tbody tr th {\n",
       "        vertical-align: top;\n",
       "    }\n",
       "\n",
       "    .dataframe thead th {\n",
       "        text-align: right;\n",
       "    }\n",
       "</style>\n",
       "<table border=\"1\" class=\"dataframe\">\n",
       "  <thead>\n",
       "    <tr style=\"text-align: right;\">\n",
       "      <th></th>\n",
       "      <th>ndc</th>\n",
       "      <th>nadac_per_unit</th>\n",
       "      <th>corresponding_generic_drug_nadac_per_unit</th>\n",
       "    </tr>\n",
       "  </thead>\n",
       "  <tbody>\n",
       "    <tr>\n",
       "      <th>count</th>\n",
       "      <td>1.213307e+06</td>\n",
       "      <td>1.213307e+06</td>\n",
       "      <td>74234.000000</td>\n",
       "    </tr>\n",
       "    <tr>\n",
       "      <th>mean</th>\n",
       "      <td>3.089467e+10</td>\n",
       "      <td>8.268764e+00</td>\n",
       "      <td>3.524454</td>\n",
       "    </tr>\n",
       "    <tr>\n",
       "      <th>std</th>\n",
       "      <td>2.828905e+10</td>\n",
       "      <td>1.669389e+02</td>\n",
       "      <td>18.910595</td>\n",
       "    </tr>\n",
       "    <tr>\n",
       "      <th>min</th>\n",
       "      <td>2.197590e+06</td>\n",
       "      <td>1.100000e-04</td>\n",
       "      <td>0.002890</td>\n",
       "    </tr>\n",
       "    <tr>\n",
       "      <th>25%</th>\n",
       "      <td>4.561405e+08</td>\n",
       "      <td>7.204000e-02</td>\n",
       "      <td>0.091780</td>\n",
       "    </tr>\n",
       "    <tr>\n",
       "      <th>50%</th>\n",
       "      <td>3.172205e+10</td>\n",
       "      <td>2.450400e-01</td>\n",
       "      <td>0.309800</td>\n",
       "    </tr>\n",
       "    <tr>\n",
       "      <th>75%</th>\n",
       "      <td>6.050501e+10</td>\n",
       "      <td>1.312610e+00</td>\n",
       "      <td>1.832720</td>\n",
       "    </tr>\n",
       "    <tr>\n",
       "      <th>max</th>\n",
       "      <td>9.920709e+10</td>\n",
       "      <td>1.486541e+04</td>\n",
       "      <td>313.407880</td>\n",
       "    </tr>\n",
       "  </tbody>\n",
       "</table>\n",
       "</div>"
      ],
      "text/plain": [
       "                ndc  nadac_per_unit  corresponding_generic_drug_nadac_per_unit\n",
       "count  1.213307e+06    1.213307e+06                               74234.000000\n",
       "mean   3.089467e+10    8.268764e+00                                   3.524454\n",
       "std    2.828905e+10    1.669389e+02                                  18.910595\n",
       "min    2.197590e+06    1.100000e-04                                   0.002890\n",
       "25%    4.561405e+08    7.204000e-02                                   0.091780\n",
       "50%    3.172205e+10    2.450400e-01                                   0.309800\n",
       "75%    6.050501e+10    1.312610e+00                                   1.832720\n",
       "max    9.920709e+10    1.486541e+04                                 313.407880"
      ]
     },
     "execution_count": 4,
     "metadata": {},
     "output_type": "execute_result"
    }
   ],
   "source": [
    "df.describe()"
   ]
  },
  {
   "cell_type": "markdown",
   "id": "41132ef7",
   "metadata": {},
   "source": [
    "### Basic cleaning"
   ]
  },
  {
   "cell_type": "code",
   "execution_count": 5,
   "id": "80309e10",
   "metadata": {},
   "outputs": [],
   "source": [
    "# add the year\n",
    "df['year']=2014"
   ]
  },
  {
   "cell_type": "code",
   "execution_count": 6,
   "id": "d6420eef",
   "metadata": {},
   "outputs": [],
   "source": [
    "df_combined = df.groupby(['ndc','year','pricing_unit'], as_index=False).agg(\n",
    "        nadac_per_unit=pd.NamedAgg(column=\"nadac_per_unit\", aggfunc=lambda x: np.mean(x)),\n",
    ")"
   ]
  },
  {
   "cell_type": "code",
   "execution_count": 7,
   "id": "0b0500ec",
   "metadata": {},
   "outputs": [
    {
     "data": {
      "text/html": [
       "<div>\n",
       "<style scoped>\n",
       "    .dataframe tbody tr th:only-of-type {\n",
       "        vertical-align: middle;\n",
       "    }\n",
       "\n",
       "    .dataframe tbody tr th {\n",
       "        vertical-align: top;\n",
       "    }\n",
       "\n",
       "    .dataframe thead th {\n",
       "        text-align: right;\n",
       "    }\n",
       "</style>\n",
       "<table border=\"1\" class=\"dataframe\">\n",
       "  <thead>\n",
       "    <tr style=\"text-align: right;\">\n",
       "      <th></th>\n",
       "      <th>ndc</th>\n",
       "      <th>year</th>\n",
       "      <th>pricing_unit</th>\n",
       "      <th>nadac_per_unit</th>\n",
       "    </tr>\n",
       "  </thead>\n",
       "  <tbody>\n",
       "    <tr>\n",
       "      <th>0</th>\n",
       "      <td>2197590</td>\n",
       "      <td>2014</td>\n",
       "      <td>ML</td>\n",
       "      <td>4.267828</td>\n",
       "    </tr>\n",
       "    <tr>\n",
       "      <th>1</th>\n",
       "      <td>2300475</td>\n",
       "      <td>2014</td>\n",
       "      <td>EA</td>\n",
       "      <td>35.139170</td>\n",
       "    </tr>\n",
       "    <tr>\n",
       "      <th>2</th>\n",
       "      <td>2322730</td>\n",
       "      <td>2014</td>\n",
       "      <td>EA</td>\n",
       "      <td>7.579394</td>\n",
       "    </tr>\n",
       "  </tbody>\n",
       "</table>\n",
       "</div>"
      ],
      "text/plain": [
       "       ndc  year pricing_unit  nadac_per_unit\n",
       "0  2197590  2014           ML        4.267828\n",
       "1  2300475  2014           EA       35.139170\n",
       "2  2322730  2014           EA        7.579394"
      ]
     },
     "execution_count": 7,
     "metadata": {},
     "output_type": "execute_result"
    }
   ],
   "source": [
    "df_combined.head(3)"
   ]
  },
  {
   "cell_type": "code",
   "execution_count": null,
   "id": "341098c9",
   "metadata": {},
   "outputs": [],
   "source": []
  }
 ],
 "metadata": {
  "kernelspec": {
   "display_name": "Python 3 (ipykernel)",
   "language": "python",
   "name": "python3"
  },
  "language_info": {
   "codemirror_mode": {
    "name": "ipython",
    "version": 3
   },
   "file_extension": ".py",
   "mimetype": "text/x-python",
   "name": "python",
   "nbconvert_exporter": "python",
   "pygments_lexer": "ipython3",
   "version": "3.8.13"
  }
 },
 "nbformat": 4,
 "nbformat_minor": 5
}
