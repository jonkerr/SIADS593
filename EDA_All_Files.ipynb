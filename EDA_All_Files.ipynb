{
 "cells": [
  {
   "cell_type": "code",
   "execution_count": 1,
   "id": "c5071266",
   "metadata": {},
   "outputs": [],
   "source": [
    "import pandas as pd"
   ]
  },
  {
   "cell_type": "code",
   "execution_count": 4,
   "id": "f5f784e9",
   "metadata": {},
   "outputs": [],
   "source": [
    "prefix = 'artifacts/'\n",
    "fnames = [\n",
    "    prefix+'diabetes_products_cleaned.csv',\n",
    "    prefix+'drug_utilization_cleaned.csv',\n",
    "    prefix+'nadac_pricing_combined.csv',\n",
    "    prefix+'nhis_cleaned.csv',\n",
    "]"
   ]
  },
  {
   "cell_type": "code",
   "execution_count": 5,
   "id": "a09f8b20",
   "metadata": {},
   "outputs": [],
   "source": [
    "df_products = pd.read_csv(fnames[0])"
   ]
  },
  {
   "cell_type": "code",
   "execution_count": null,
   "id": "449d44ae",
   "metadata": {},
   "outputs": [],
   "source": [
    "df_utilization = pd.read_csv(fnames[1])"
   ]
  },
  {
   "cell_type": "code",
   "execution_count": null,
   "id": "5deb5ec5",
   "metadata": {},
   "outputs": [],
   "source": [
    "df_nadac = pd.read_csv(fnames[2])"
   ]
  },
  {
   "cell_type": "code",
   "execution_count": null,
   "id": "9e562d1e",
   "metadata": {},
   "outputs": [],
   "source": [
    "df_nhis = pd.read_csv(fnames[3])"
   ]
  },
  {
   "cell_type": "code",
   "execution_count": null,
   "id": "0c41b9ee",
   "metadata": {},
   "outputs": [],
   "source": []
  }
 ],
 "metadata": {
  "kernelspec": {
   "display_name": ".venv",
   "language": "python",
   "name": ".venv"
  },
  "language_info": {
   "codemirror_mode": {
    "name": "ipython",
    "version": 3
   },
   "file_extension": ".py",
   "mimetype": "text/x-python",
   "name": "python",
   "nbconvert_exporter": "python",
   "pygments_lexer": "ipython3",
   "version": "3.9.15"
  }
 },
 "nbformat": 4,
 "nbformat_minor": 5
}
