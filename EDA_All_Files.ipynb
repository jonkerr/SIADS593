{
 "cells": [
  {
   "cell_type": "code",
   "execution_count": 28,
   "id": "c5071266",
   "metadata": {},
   "outputs": [],
   "source": [
    "import pandas as pd\n",
    "import math"
   ]
  },
  {
   "cell_type": "code",
   "execution_count": 29,
   "id": "f5f784e9",
   "metadata": {},
   "outputs": [],
   "source": [
    "prefix = 'artifacts/'\n",
    "fnames = [\n",
    "    prefix+'diabetes_products_cleaned.csv',\n",
    "    prefix+'drug_utilization_cleaned.csv',\n",
    "    prefix+'nadac_pricing_cleaned.csv',\n",
    "    prefix+'nhis_cleaned.csv',\n",
    "]"
   ]
  },
  {
   "cell_type": "code",
   "execution_count": 30,
   "id": "a09f8b20",
   "metadata": {},
   "outputs": [],
   "source": [
    "df_products = pd.read_csv(fnames[0])"
   ]
  },
  {
   "cell_type": "code",
   "execution_count": null,
   "id": "449d44ae",
   "metadata": {},
   "outputs": [],
   "source": [
    "df_utilization = pd.read_csv(fnames[1])"
   ]
  },
  {
   "cell_type": "code",
   "execution_count": null,
   "id": "5deb5ec5",
   "metadata": {},
   "outputs": [],
   "source": [
    "df_nadac = pd.read_csv(fnames[2])"
   ]
  },
  {
   "cell_type": "code",
   "execution_count": null,
   "id": "9e562d1e",
   "metadata": {},
   "outputs": [],
   "source": [
    "df_nhis = pd.read_csv(fnames[3])"
   ]
  },
  {
   "cell_type": "code",
   "execution_count": null,
   "id": "0c41b9ee",
   "metadata": {},
   "outputs": [],
   "source": [
    "df_products.shape[0]"
   ]
  },
  {
   "cell_type": "code",
   "execution_count": null,
   "id": "671e956a",
   "metadata": {},
   "outputs": [],
   "source": [
    "df_utilization.shape[0]"
   ]
  },
  {
   "cell_type": "code",
   "execution_count": null,
   "id": "f337cd20",
   "metadata": {},
   "outputs": [],
   "source": [
    "df_nadac.shape[0]"
   ]
  },
  {
   "cell_type": "code",
   "execution_count": null,
   "id": "bc8e5035",
   "metadata": {},
   "outputs": [],
   "source": [
    "df_nhis.shape[0]"
   ]
  },
  {
   "cell_type": "markdown",
   "id": "a31bfc44",
   "metadata": {},
   "source": [
    "## Filter by diabetes products"
   ]
  },
  {
   "cell_type": "code",
   "execution_count": null,
   "id": "97fce099",
   "metadata": {},
   "outputs": [],
   "source": [
    "df_products.head(1)"
   ]
  },
  {
   "cell_type": "code",
   "execution_count": null,
   "id": "b287c5e8",
   "metadata": {},
   "outputs": [],
   "source": [
    "df_products.columns"
   ]
  },
  {
   "cell_type": "code",
   "execution_count": null,
   "id": "99e243f6",
   "metadata": {},
   "outputs": [],
   "source": [
    "df_ndc = df_products[['NDC_KEY']].copy()"
   ]
  },
  {
   "cell_type": "code",
   "execution_count": null,
   "id": "ddccb03f",
   "metadata": {},
   "outputs": [],
   "source": [
    "df_ndc.head(1)"
   ]
  },
  {
   "cell_type": "code",
   "execution_count": null,
   "id": "e2b34435",
   "metadata": {},
   "outputs": [],
   "source": [
    "df_utilization.head(1)"
   ]
  },
  {
   "cell_type": "code",
   "execution_count": null,
   "id": "eca203b5",
   "metadata": {},
   "outputs": [],
   "source": [
    "df_ndc.shape[0]"
   ]
  },
  {
   "cell_type": "code",
   "execution_count": null,
   "id": "b24e1261",
   "metadata": {},
   "outputs": [],
   "source": [
    "len(df_ndc['NDC_KEY'].unique())"
   ]
  },
  {
   "cell_type": "code",
   "execution_count": null,
   "id": "5b71e024",
   "metadata": {},
   "outputs": [],
   "source": [
    "#df_util_ndc = df_utilization.merge(df_ndc, left_on='lkey', right_on='ndc', how='outer')"
   ]
  },
  {
   "cell_type": "markdown",
   "id": "c4189119",
   "metadata": {},
   "source": [
    "## Filter out non-diabetes drugs from utilization\n",
    "**Approach**\n",
    "1. Get the unique ndc codes\n",
    "2. Note the ones that match\n",
    "3. Note the ones that don't match\n",
    "4. Find out what the non-matching ones are to ensure nothing got missed.\n",
    "5. Filter data set by matching ndc codes"
   ]
  },
  {
   "cell_type": "code",
   "execution_count": null,
   "id": "bf91bc7e",
   "metadata": {},
   "outputs": [],
   "source": [
    "df_utilization.shape[0]"
   ]
  },
  {
   "cell_type": "code",
   "execution_count": null,
   "id": "719180c0",
   "metadata": {},
   "outputs": [],
   "source": [
    "#df_products.shape[0]\n",
    "df_ndc.shape[0]"
   ]
  },
  {
   "cell_type": "code",
   "execution_count": null,
   "id": "a7ded097",
   "metadata": {},
   "outputs": [],
   "source": [
    "#s_util_ndc = df_utilization['ndc'].unique()\n",
    "#s_product_ndc = df_products['NDC_KEY'].unique()"
   ]
  },
  {
   "cell_type": "code",
   "execution_count": null,
   "id": "835a859a",
   "metadata": {},
   "outputs": [],
   "source": [
    "df_filtered_found = df_utilization[df_utilization['ndc'].isin(df_products['NDC_KEY'])]\n",
    "#df_filtered_not_found = df_utilization[~df_utilization['ndc'].isin(df_products['NDC_KEY'])]"
   ]
  },
  {
   "cell_type": "code",
   "execution_count": null,
   "id": "49faafa4",
   "metadata": {},
   "outputs": [],
   "source": [
    "df_filtered_found.shape[0]"
   ]
  },
  {
   "cell_type": "code",
   "execution_count": null,
   "id": "734bfb5c",
   "metadata": {},
   "outputs": [],
   "source": [
    "#df_filtered_not_found = df_utilization[~df_utilization['ndc'].isin(df_products['NDC_KEY'])]"
   ]
  },
  {
   "cell_type": "code",
   "execution_count": null,
   "id": "b15712c5",
   "metadata": {},
   "outputs": [],
   "source": [
    "df_ndc.shape[0]/3"
   ]
  },
  {
   "cell_type": "markdown",
   "id": "efacdc2e",
   "metadata": {},
   "source": [
    "The following query is too big\n",
    "\n",
    "```\n",
    "df_filtered_not_found = df_utilization[~df_utilization['ndc'].isin(df_products['NDC_KEY'])]\n",
    "```\n",
    "Try iterating instead"
   ]
  },
  {
   "cell_type": "code",
   "execution_count": null,
   "id": "96266441",
   "metadata": {},
   "outputs": [],
   "source": [
    "df_filtered_not_found = df_utilization\n",
    "\n",
    "max_idx = 50\n",
    "multiple = math.floor(df_ndc.shape[0]/max_idx)\n",
    "series_ndc = df_products['NDC_KEY']\n",
    "\n",
    "for i in range(max_idx):\n",
    "    start = i*multiple\n",
    "    end = start+multiple\n",
    "    if i != 9:\n",
    "        next_range = series_ndc[start:end]\n",
    "    else:\n",
    "        next_range = series_ndc[start:]\n",
    "\n",
    "    print(len(next_range))\n",
    "    print(i)\n",
    "    #df_filtered_not_found = df_filtered_not_found[~df_filtered_not_found['ndc'].isin(next_range)]\n"
   ]
  },
  {
   "cell_type": "code",
   "execution_count": null,
   "id": "a9bf29b2",
   "metadata": {},
   "outputs": [],
   "source": [
    "df_filtered_not_found"
   ]
  }
 ],
 "metadata": {
  "kernelspec": {
   "display_name": ".venv",
   "language": "python",
   "name": ".venv"
  },
  "language_info": {
   "codemirror_mode": {
    "name": "ipython",
    "version": 3
   },
   "file_extension": ".py",
   "mimetype": "text/x-python",
   "name": "python",
   "nbconvert_exporter": "python",
   "pygments_lexer": "ipython3",
   "version": "3.9.15"
  }
 },
 "nbformat": 4,
 "nbformat_minor": 5
}
