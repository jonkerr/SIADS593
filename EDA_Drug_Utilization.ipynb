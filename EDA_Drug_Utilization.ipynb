{
 "cells": [
  {
   "cell_type": "markdown",
   "id": "37ca8c37",
   "metadata": {},
   "source": [
    "# Drug Utilization EDA\n",
    "Explore the drug utilization CSV found at https://data.medicaid.gov/api/1/datastore/query/eec7fbe6-c4c4-5915-b3d0-be5828ef4e9d/0/download?format=csv"
   ]
  },
  {
   "cell_type": "code",
   "execution_count": 1,
   "id": "672589c8",
   "metadata": {},
   "outputs": [],
   "source": [
    "import pandas as pd\n",
    "import os"
   ]
  },
  {
   "cell_type": "markdown",
   "id": "af62b900",
   "metadata": {},
   "source": [
    "The preferred route to get all the raw data is via the Makefile.\\\n",
    "The following cell is just a catch all to ensure the data is available for EDA."
   ]
  },
  {
   "cell_type": "code",
   "execution_count": 2,
   "id": "f05a44d9",
   "metadata": {},
   "outputs": [],
   "source": [
    "path = 'raw_data/drug_utilization_2021.csv'\n",
    "if not os.path.exists(path):\n",
    "    import get_data\n",
    "    get_data.download_drug_utiliztion(path)"
   ]
  },
  {
   "cell_type": "code",
   "execution_count": 3,
   "id": "06d61fd1",
   "metadata": {},
   "outputs": [],
   "source": [
    "df = pd.read_csv(path)"
   ]
  },
  {
   "cell_type": "markdown",
   "id": "f1466196",
   "metadata": {},
   "source": [
    "### What do we notice about the first 3 rows?"
   ]
  },
  {
   "cell_type": "code",
   "execution_count": 4,
   "id": "c8498d0e",
   "metadata": {},
   "outputs": [
    {
     "data": {
      "text/html": [
       "<div>\n",
       "<style scoped>\n",
       "    .dataframe tbody tr th:only-of-type {\n",
       "        vertical-align: middle;\n",
       "    }\n",
       "\n",
       "    .dataframe tbody tr th {\n",
       "        vertical-align: top;\n",
       "    }\n",
       "\n",
       "    .dataframe thead th {\n",
       "        text-align: right;\n",
       "    }\n",
       "</style>\n",
       "<table border=\"1\" class=\"dataframe\">\n",
       "  <thead>\n",
       "    <tr style=\"text-align: right;\">\n",
       "      <th></th>\n",
       "      <th>utilization_type</th>\n",
       "      <th>state</th>\n",
       "      <th>ndc</th>\n",
       "      <th>labeler_code</th>\n",
       "      <th>product_code</th>\n",
       "      <th>package_size</th>\n",
       "      <th>year</th>\n",
       "      <th>quarter</th>\n",
       "      <th>suppression_used</th>\n",
       "      <th>product_name</th>\n",
       "      <th>units_reimbursed</th>\n",
       "      <th>number_of_prescriptions</th>\n",
       "      <th>total_amount_reimbursed</th>\n",
       "      <th>medicaid_amount_reimbursed</th>\n",
       "      <th>non_medicaid_amount_reimbursed</th>\n",
       "    </tr>\n",
       "  </thead>\n",
       "  <tbody>\n",
       "    <tr>\n",
       "      <th>0</th>\n",
       "      <td>FFSU</td>\n",
       "      <td>AK</td>\n",
       "      <td>2143380</td>\n",
       "      <td>2</td>\n",
       "      <td>1433</td>\n",
       "      <td>80</td>\n",
       "      <td>2021</td>\n",
       "      <td>4</td>\n",
       "      <td>False</td>\n",
       "      <td>TRULICITY</td>\n",
       "      <td>544.0</td>\n",
       "      <td>222.0</td>\n",
       "      <td>220042.29</td>\n",
       "      <td>215557.09</td>\n",
       "      <td>4485.20</td>\n",
       "    </tr>\n",
       "    <tr>\n",
       "      <th>1</th>\n",
       "      <td>FFSU</td>\n",
       "      <td>AK</td>\n",
       "      <td>2143480</td>\n",
       "      <td>2</td>\n",
       "      <td>1434</td>\n",
       "      <td>80</td>\n",
       "      <td>2021</td>\n",
       "      <td>4</td>\n",
       "      <td>False</td>\n",
       "      <td>TRULICITY</td>\n",
       "      <td>706.0</td>\n",
       "      <td>275.0</td>\n",
       "      <td>286542.68</td>\n",
       "      <td>281194.56</td>\n",
       "      <td>5348.12</td>\n",
       "    </tr>\n",
       "    <tr>\n",
       "      <th>2</th>\n",
       "      <td>FFSU</td>\n",
       "      <td>AK</td>\n",
       "      <td>2143611</td>\n",
       "      <td>2</td>\n",
       "      <td>1436</td>\n",
       "      <td>11</td>\n",
       "      <td>2021</td>\n",
       "      <td>4</td>\n",
       "      <td>False</td>\n",
       "      <td>EMGALITY P</td>\n",
       "      <td>27.0</td>\n",
       "      <td>27.0</td>\n",
       "      <td>16648.52</td>\n",
       "      <td>16648.52</td>\n",
       "      <td>0.00</td>\n",
       "    </tr>\n",
       "  </tbody>\n",
       "</table>\n",
       "</div>"
      ],
      "text/plain": [
       "  utilization_type state      ndc  labeler_code  product_code  package_size  \\\n",
       "0             FFSU    AK  2143380             2          1433            80   \n",
       "1             FFSU    AK  2143480             2          1434            80   \n",
       "2             FFSU    AK  2143611             2          1436            11   \n",
       "\n",
       "   year  quarter  suppression_used product_name  units_reimbursed  \\\n",
       "0  2021        4             False   TRULICITY              544.0   \n",
       "1  2021        4             False   TRULICITY              706.0   \n",
       "2  2021        4             False   EMGALITY P              27.0   \n",
       "\n",
       "   number_of_prescriptions  total_amount_reimbursed  \\\n",
       "0                    222.0                220042.29   \n",
       "1                    275.0                286542.68   \n",
       "2                     27.0                 16648.52   \n",
       "\n",
       "   medicaid_amount_reimbursed  non_medicaid_amount_reimbursed  \n",
       "0                   215557.09                         4485.20  \n",
       "1                   281194.56                         5348.12  \n",
       "2                    16648.52                            0.00  "
      ]
     },
     "execution_count": 4,
     "metadata": {},
     "output_type": "execute_result"
    }
   ],
   "source": [
    "df.head(3)"
   ]
  },
  {
   "cell_type": "markdown",
   "id": "1ef0a140",
   "metadata": {},
   "source": [
    "Product names are more human readable than ndc codes so let's see how many we're dealing with."
   ]
  },
  {
   "cell_type": "code",
   "execution_count": 5,
   "id": "f3a64e76",
   "metadata": {},
   "outputs": [
    {
     "data": {
      "text/plain": [
       "array(['TRULICITY '], dtype=object)"
      ]
     },
     "execution_count": 5,
     "metadata": {},
     "output_type": "execute_result"
    }
   ],
   "source": [
    "# let's look at a specific record\n",
    "df[df.ndc==2143380]['product_name'].unique()"
   ]
  },
  {
   "cell_type": "markdown",
   "id": "f6cd9143",
   "metadata": {},
   "source": [
    "Padding can be kind of a pain.  Let's strip that out and see if that changes our unique count"
   ]
  },
  {
   "cell_type": "code",
   "execution_count": 6,
   "id": "3f0e447c",
   "metadata": {},
   "outputs": [
    {
     "data": {
      "text/plain": [
       "15326"
      ]
     },
     "execution_count": 6,
     "metadata": {},
     "output_type": "execute_result"
    }
   ],
   "source": [
    "# count of unique product_name before blanks stripped out\n",
    "len(df['product_name'].unique())"
   ]
  },
  {
   "cell_type": "code",
   "execution_count": 7,
   "id": "e8206f93",
   "metadata": {},
   "outputs": [
    {
     "data": {
      "text/plain": [
       "15325"
      ]
     },
     "execution_count": 7,
     "metadata": {},
     "output_type": "execute_result"
    }
   ],
   "source": [
    "df['product_name'] = df['product_name'].str.strip()\n",
    "\n",
    "# count of unique product_name before blanks stripped out - should be the same as above\n",
    "len(df['product_name'].unique())"
   ]
  },
  {
   "cell_type": "markdown",
   "id": "4fbc47c2",
   "metadata": {},
   "source": [
    "Since no ill effects (before/after counts are the same), we'll include stripping the padding in our cleaning step (clean.py) as it will dealing with product name queries a little easier."
   ]
  },
  {
   "cell_type": "markdown",
   "id": "7d1fe4bf",
   "metadata": {},
   "source": [
    "### General data set stats"
   ]
  },
  {
   "cell_type": "code",
   "execution_count": 8,
   "id": "4d9db268",
   "metadata": {},
   "outputs": [
    {
     "data": {
      "text/html": [
       "<div>\n",
       "<style scoped>\n",
       "    .dataframe tbody tr th:only-of-type {\n",
       "        vertical-align: middle;\n",
       "    }\n",
       "\n",
       "    .dataframe tbody tr th {\n",
       "        vertical-align: top;\n",
       "    }\n",
       "\n",
       "    .dataframe thead th {\n",
       "        text-align: right;\n",
       "    }\n",
       "</style>\n",
       "<table border=\"1\" class=\"dataframe\">\n",
       "  <thead>\n",
       "    <tr style=\"text-align: right;\">\n",
       "      <th></th>\n",
       "      <th>ndc</th>\n",
       "      <th>labeler_code</th>\n",
       "      <th>product_code</th>\n",
       "      <th>package_size</th>\n",
       "      <th>year</th>\n",
       "      <th>quarter</th>\n",
       "      <th>units_reimbursed</th>\n",
       "      <th>number_of_prescriptions</th>\n",
       "      <th>total_amount_reimbursed</th>\n",
       "      <th>medicaid_amount_reimbursed</th>\n",
       "      <th>non_medicaid_amount_reimbursed</th>\n",
       "    </tr>\n",
       "  </thead>\n",
       "  <tbody>\n",
       "    <tr>\n",
       "      <th>count</th>\n",
       "      <td>5.020759e+06</td>\n",
       "      <td>5.020759e+06</td>\n",
       "      <td>5.020759e+06</td>\n",
       "      <td>5.020759e+06</td>\n",
       "      <td>5020759.0</td>\n",
       "      <td>5.020759e+06</td>\n",
       "      <td>2.571171e+06</td>\n",
       "      <td>2.571171e+06</td>\n",
       "      <td>2.571171e+06</td>\n",
       "      <td>2.571171e+06</td>\n",
       "      <td>2.571171e+06</td>\n",
       "    </tr>\n",
       "    <tr>\n",
       "      <th>mean</th>\n",
       "      <td>3.754980e+10</td>\n",
       "      <td>3.754971e+04</td>\n",
       "      <td>1.386811e+03</td>\n",
       "      <td>2.232003e+01</td>\n",
       "      <td>2021.0</td>\n",
       "      <td>2.511108e+00</td>\n",
       "      <td>5.567704e+04</td>\n",
       "      <td>5.717950e+02</td>\n",
       "      <td>6.623537e+04</td>\n",
       "      <td>6.331987e+04</td>\n",
       "      <td>2.915500e+03</td>\n",
       "    </tr>\n",
       "    <tr>\n",
       "      <th>std</th>\n",
       "      <td>2.825187e+10</td>\n",
       "      <td>2.825197e+04</td>\n",
       "      <td>2.162050e+03</td>\n",
       "      <td>2.759782e+01</td>\n",
       "      <td>0.0</td>\n",
       "      <td>1.117977e+00</td>\n",
       "      <td>1.076842e+07</td>\n",
       "      <td>5.147971e+03</td>\n",
       "      <td>1.307438e+06</td>\n",
       "      <td>1.281386e+06</td>\n",
       "      <td>8.568518e+04</td>\n",
       "    </tr>\n",
       "    <tr>\n",
       "      <th>min</th>\n",
       "      <td>2.010102e+06</td>\n",
       "      <td>2.000000e+00</td>\n",
       "      <td>0.000000e+00</td>\n",
       "      <td>0.000000e+00</td>\n",
       "      <td>2021.0</td>\n",
       "      <td>1.000000e+00</td>\n",
       "      <td>6.000000e-03</td>\n",
       "      <td>1.100000e+01</td>\n",
       "      <td>0.000000e+00</td>\n",
       "      <td>0.000000e+00</td>\n",
       "      <td>0.000000e+00</td>\n",
       "    </tr>\n",
       "    <tr>\n",
       "      <th>25%</th>\n",
       "      <td>7.811089e+08</td>\n",
       "      <td>7.810000e+02</td>\n",
       "      <td>1.850000e+02</td>\n",
       "      <td>1.000000e+00</td>\n",
       "      <td>2021.0</td>\n",
       "      <td>2.000000e+00</td>\n",
       "      <td>7.760000e+02</td>\n",
       "      <td>2.300000e+01</td>\n",
       "      <td>4.323300e+02</td>\n",
       "      <td>4.120700e+02</td>\n",
       "      <td>0.000000e+00</td>\n",
       "    </tr>\n",
       "    <tr>\n",
       "      <th>50%</th>\n",
       "      <td>4.778107e+10</td>\n",
       "      <td>4.778100e+04</td>\n",
       "      <td>5.000000e+02</td>\n",
       "      <td>1.000000e+01</td>\n",
       "      <td>2021.0</td>\n",
       "      <td>3.000000e+00</td>\n",
       "      <td>2.368000e+03</td>\n",
       "      <td>5.600000e+01</td>\n",
       "      <td>1.565070e+03</td>\n",
       "      <td>1.486290e+03</td>\n",
       "      <td>0.000000e+00</td>\n",
       "    </tr>\n",
       "    <tr>\n",
       "      <th>75%</th>\n",
       "      <td>6.467908e+10</td>\n",
       "      <td>6.467900e+04</td>\n",
       "      <td>1.079000e+03</td>\n",
       "      <td>3.100000e+01</td>\n",
       "      <td>2021.0</td>\n",
       "      <td>4.000000e+00</td>\n",
       "      <td>9.480000e+03</td>\n",
       "      <td>1.980000e+02</td>\n",
       "      <td>7.544500e+03</td>\n",
       "      <td>7.117820e+03</td>\n",
       "      <td>5.479000e+01</td>\n",
       "    </tr>\n",
       "    <tr>\n",
       "      <th>max</th>\n",
       "      <td>1.000000e+11</td>\n",
       "      <td>9.999900e+04</td>\n",
       "      <td>9.999000e+03</td>\n",
       "      <td>9.900000e+01</td>\n",
       "      <td>2021.0</td>\n",
       "      <td>4.000000e+00</td>\n",
       "      <td>1.028045e+10</td>\n",
       "      <td>1.234377e+06</td>\n",
       "      <td>5.185489e+08</td>\n",
       "      <td>5.140411e+08</td>\n",
       "      <td>3.627057e+07</td>\n",
       "    </tr>\n",
       "  </tbody>\n",
       "</table>\n",
       "</div>"
      ],
      "text/plain": [
       "                ndc  labeler_code  product_code  package_size       year  \\\n",
       "count  5.020759e+06  5.020759e+06  5.020759e+06  5.020759e+06  5020759.0   \n",
       "mean   3.754980e+10  3.754971e+04  1.386811e+03  2.232003e+01     2021.0   \n",
       "std    2.825187e+10  2.825197e+04  2.162050e+03  2.759782e+01        0.0   \n",
       "min    2.010102e+06  2.000000e+00  0.000000e+00  0.000000e+00     2021.0   \n",
       "25%    7.811089e+08  7.810000e+02  1.850000e+02  1.000000e+00     2021.0   \n",
       "50%    4.778107e+10  4.778100e+04  5.000000e+02  1.000000e+01     2021.0   \n",
       "75%    6.467908e+10  6.467900e+04  1.079000e+03  3.100000e+01     2021.0   \n",
       "max    1.000000e+11  9.999900e+04  9.999000e+03  9.900000e+01     2021.0   \n",
       "\n",
       "            quarter  units_reimbursed  number_of_prescriptions  \\\n",
       "count  5.020759e+06      2.571171e+06             2.571171e+06   \n",
       "mean   2.511108e+00      5.567704e+04             5.717950e+02   \n",
       "std    1.117977e+00      1.076842e+07             5.147971e+03   \n",
       "min    1.000000e+00      6.000000e-03             1.100000e+01   \n",
       "25%    2.000000e+00      7.760000e+02             2.300000e+01   \n",
       "50%    3.000000e+00      2.368000e+03             5.600000e+01   \n",
       "75%    4.000000e+00      9.480000e+03             1.980000e+02   \n",
       "max    4.000000e+00      1.028045e+10             1.234377e+06   \n",
       "\n",
       "       total_amount_reimbursed  medicaid_amount_reimbursed  \\\n",
       "count             2.571171e+06                2.571171e+06   \n",
       "mean              6.623537e+04                6.331987e+04   \n",
       "std               1.307438e+06                1.281386e+06   \n",
       "min               0.000000e+00                0.000000e+00   \n",
       "25%               4.323300e+02                4.120700e+02   \n",
       "50%               1.565070e+03                1.486290e+03   \n",
       "75%               7.544500e+03                7.117820e+03   \n",
       "max               5.185489e+08                5.140411e+08   \n",
       "\n",
       "       non_medicaid_amount_reimbursed  \n",
       "count                    2.571171e+06  \n",
       "mean                     2.915500e+03  \n",
       "std                      8.568518e+04  \n",
       "min                      0.000000e+00  \n",
       "25%                      0.000000e+00  \n",
       "50%                      0.000000e+00  \n",
       "75%                      5.479000e+01  \n",
       "max                      3.627057e+07  "
      ]
     },
     "execution_count": 8,
     "metadata": {},
     "output_type": "execute_result"
    }
   ],
   "source": [
    "df.describe()"
   ]
  },
  {
   "cell_type": "markdown",
   "id": "4f30ef0c",
   "metadata": {},
   "source": [
    "The first thing I notice is while there are 5M rows, only about 1/2 of them have entries for: \n",
    "* units_reimbursed\n",
    "* number_of_prescriptions\n",
    "* total_amount_reimbursed\n",
    "* medicaid_amount_reimbursed\n",
    "* non_medicaid_amount_reimbursed\n",
    "\n",
    "These seem to correlate with suppression_used as false.  To confirm, we'll perform the following two tests\n",
    "1. Whenever suppression_used is true, all the above fields are na (no non na fields)\n",
    "2. Whenever suppression_used is false, none of the above fields are na (no na fields)"
   ]
  },
  {
   "cell_type": "markdown",
   "id": "9a24bb47",
   "metadata": {},
   "source": [
    "##### 1. Whenever suppression_used is true, all the above fields are na (no non na fields)"
   ]
  },
  {
   "cell_type": "code",
   "execution_count": 9,
   "id": "4630bd48",
   "metadata": {},
   "outputs": [
    {
     "data": {
      "text/plain": [
       "2449588"
      ]
     },
     "execution_count": 9,
     "metadata": {},
     "output_type": "execute_result"
    }
   ],
   "source": [
    "# ensure count of suppression_used==True > 0\n",
    "df[df['suppression_used']].shape[0]"
   ]
  },
  {
   "cell_type": "code",
   "execution_count": 10,
   "id": "8d90318f",
   "metadata": {},
   "outputs": [
    {
     "data": {
      "text/plain": [
       "0"
      ]
     },
     "execution_count": 10,
     "metadata": {},
     "output_type": "execute_result"
    }
   ],
   "source": [
    "# Find the intersection of suppression_used and any non-na values\n",
    "# A count of 0 means no overlap between supression true and any other of specified fields having a non-na value\n",
    "\n",
    "df[(df['suppression_used']) & \n",
    "   (\n",
    "       (~df['number_of_prescriptions'].isna()) | \n",
    "       (~df['units_reimbursed'].isna()) | \n",
    "       (~df['total_amount_reimbursed'].isna()) |\n",
    "       (~df['medicaid_amount_reimbursed'].isna()) |\n",
    "       (~df['non_medicaid_amount_reimbursed'].isna()) \n",
    ")].shape[0]"
   ]
  },
  {
   "cell_type": "markdown",
   "id": "46557545",
   "metadata": {},
   "source": [
    "##### 2. Whenever suppression_used is false, none of the above fields are na (no na fields)"
   ]
  },
  {
   "cell_type": "code",
   "execution_count": 11,
   "id": "d0f8a63f",
   "metadata": {},
   "outputs": [
    {
     "data": {
      "text/plain": [
       "2571171"
      ]
     },
     "execution_count": 11,
     "metadata": {},
     "output_type": "execute_result"
    }
   ],
   "source": [
    "# ensure count of suppression_used==False > 0\n",
    "df[~df['suppression_used']].shape[0]"
   ]
  },
  {
   "cell_type": "code",
   "execution_count": 12,
   "id": "d9395be2",
   "metadata": {},
   "outputs": [
    {
     "data": {
      "text/plain": [
       "0"
      ]
     },
     "execution_count": 12,
     "metadata": {},
     "output_type": "execute_result"
    }
   ],
   "source": [
    "# Find the intersection of suppression_used==False and any na values\n",
    "# A count of 0 means no overlap between supression false and any other of specified fields with value of na\n",
    "\n",
    "df[(~df['suppression_used']) & \n",
    "   (\n",
    "       (df['number_of_prescriptions'].isna()) | \n",
    "       (df['units_reimbursed'].isna()) | \n",
    "       (df['total_amount_reimbursed'].isna()) |\n",
    "       (df['medicaid_amount_reimbursed'].isna()) |\n",
    "       (df['non_medicaid_amount_reimbursed'].isna()) \n",
    ")].shape[0]"
   ]
  },
  {
   "cell_type": "markdown",
   "id": "7e5bbee1",
   "metadata": {},
   "source": [
    "#### Conclusion\n",
    "suppression_used can be used as a filter to determine if the above mentioned fields will have a non-na value"
   ]
  }
 ],
 "metadata": {
  "kernelspec": {
   "display_name": "mads-kernel",
   "language": "python",
   "name": "mads-kernel"
  },
  "language_info": {
   "codemirror_mode": {
    "name": "ipython",
    "version": 3
   },
   "file_extension": ".py",
   "mimetype": "text/x-python",
   "name": "python",
   "nbconvert_exporter": "python",
   "pygments_lexer": "ipython3",
   "version": "3.8.13"
  }
 },
 "nbformat": 4,
 "nbformat_minor": 5
}
