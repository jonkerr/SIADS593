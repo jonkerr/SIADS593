{
 "cells": [
  {
   "cell_type": "markdown",
   "id": "37ca8c37",
   "metadata": {},
   "source": [
    "# Drug Utilization EDA\n",
    "Explore the drug utilization CSV found at https://data.medicaid.gov/api/1/datastore/query/a9cfe5e9-d7d8-5b87-a7db-b45a7daf84fc/0/download"
   ]
  },
  {
   "cell_type": "code",
   "execution_count": 1,
   "id": "672589c8",
   "metadata": {},
   "outputs": [],
   "source": [
    "import pandas as pd\n",
    "import os"
   ]
  },
  {
   "cell_type": "markdown",
   "id": "af62b900",
   "metadata": {},
   "source": [
    "The preferred route to get all the raw data is via the Makefile.\\\n",
    "The following cell is just a catch all to ensure the data is available for EDA."
   ]
  },
  {
   "cell_type": "code",
   "execution_count": 2,
   "id": "f05a44d9",
   "metadata": {},
   "outputs": [],
   "source": [
    "path = 'raw_data/util/drug_utilization_2014.csv'\n",
    "if not os.path.exists(path):\n",
    "    import get_data\n",
    "    get_data.download_drug_utiliztion(path)"
   ]
  },
  {
   "cell_type": "code",
   "execution_count": 3,
   "id": "06d61fd1",
   "metadata": {},
   "outputs": [
    {
     "name": "stderr",
     "output_type": "stream",
     "text": [
      "/tmp/ipykernel_26371/3280352130.py:1: DtypeWarning: Columns (2,5) have mixed types. Specify dtype option on import or set low_memory=False.\n",
      "  df = pd.read_csv(path)\n"
     ]
    }
   ],
   "source": [
    "# note, this will give a memory warning\n",
    "df = pd.read_csv(path)"
   ]
  },
  {
   "cell_type": "markdown",
   "id": "f09f7ccf",
   "metadata": {},
   "source": [
    "### Efficient File Handling\n",
    "Since this is such a large file, scanning each column to determine data type is expensive and gives the warning above.\\\n",
    "Since I've got it loaded now, list out what is being used for each column to make opening more efficient - keeping in mind the mixed types in columns 2 and 5."
   ]
  },
  {
   "cell_type": "code",
   "execution_count": 4,
   "id": "24ca7190",
   "metadata": {},
   "outputs": [
    {
     "data": {
      "text/plain": [
       "utilization_type                   object\n",
       "state                              object\n",
       "ndc                                object\n",
       "labeler_code                        int64\n",
       "product_code                        int64\n",
       "package_size                       object\n",
       "year                                int64\n",
       "quarter                             int64\n",
       "suppression_used                     bool\n",
       "product_name                       object\n",
       "units_reimbursed                  float64\n",
       "number_of_prescriptions           float64\n",
       "total_amount_reimbursed           float64\n",
       "medicaid_amount_reimbursed        float64\n",
       "non_medicaid_amount_reimbursed    float64\n",
       "dtype: object"
      ]
     },
     "execution_count": 4,
     "metadata": {},
     "output_type": "execute_result"
    }
   ],
   "source": [
    "df.dtypes"
   ]
  },
  {
   "cell_type": "code",
   "execution_count": 5,
   "id": "ab63ffa8",
   "metadata": {},
   "outputs": [],
   "source": [
    "# note, due to mixed types, have to use object instead of float for columns 2 and 5\n",
    "dtypes = {\n",
    "    'utilization_type':'object',\n",
    "    'state': 'object',\n",
    "    'ndc': 'object', #'int64',\n",
    "    'labeler_code': 'int64',\n",
    "    'product_code': 'int64',\n",
    "    'package_size': 'object', #'float64',\n",
    "    'year': 'int64',\n",
    "    'quarter': 'int64',\n",
    "    'suppression_used': 'bool',\n",
    "    'product_name': 'object',\n",
    "    'units_reimbursed': 'float64',\n",
    "    'number_of_prescriptions': 'float64',\n",
    "    'total_amount_reimbursed': 'float64',\n",
    "    'medicaid_amount_reimbursed': 'float64',\n",
    "    'non_medicaid_amount_reimbursed': 'float64',\n",
    "}"
   ]
  },
  {
   "cell_type": "markdown",
   "id": "a9e472e3",
   "metadata": {},
   "source": [
    "Confirm we no longer get a warning when loading based on specific types"
   ]
  },
  {
   "cell_type": "code",
   "execution_count": 6,
   "id": "36401791",
   "metadata": {},
   "outputs": [],
   "source": [
    "df = pd.read_csv(path, dtype=dtypes)"
   ]
  },
  {
   "cell_type": "markdown",
   "id": "b04dbad4",
   "metadata": {},
   "source": [
    "Now we can load it efficiently, let's see what is actually in the file."
   ]
  },
  {
   "cell_type": "code",
   "execution_count": 7,
   "id": "a231a45b",
   "metadata": {},
   "outputs": [
    {
     "data": {
      "text/plain": [
       "(4315519, 15)"
      ]
     },
     "execution_count": 7,
     "metadata": {},
     "output_type": "execute_result"
    }
   ],
   "source": [
    "df.shape"
   ]
  },
  {
   "cell_type": "markdown",
   "id": "f1466196",
   "metadata": {},
   "source": [
    "### Examine the first 3 rows to get a feel for the data"
   ]
  },
  {
   "cell_type": "code",
   "execution_count": 8,
   "id": "c8498d0e",
   "metadata": {},
   "outputs": [
    {
     "data": {
      "text/html": [
       "<div>\n",
       "<style scoped>\n",
       "    .dataframe tbody tr th:only-of-type {\n",
       "        vertical-align: middle;\n",
       "    }\n",
       "\n",
       "    .dataframe tbody tr th {\n",
       "        vertical-align: top;\n",
       "    }\n",
       "\n",
       "    .dataframe thead th {\n",
       "        text-align: right;\n",
       "    }\n",
       "</style>\n",
       "<table border=\"1\" class=\"dataframe\">\n",
       "  <thead>\n",
       "    <tr style=\"text-align: right;\">\n",
       "      <th></th>\n",
       "      <th>utilization_type</th>\n",
       "      <th>state</th>\n",
       "      <th>ndc</th>\n",
       "      <th>labeler_code</th>\n",
       "      <th>product_code</th>\n",
       "      <th>package_size</th>\n",
       "      <th>year</th>\n",
       "      <th>quarter</th>\n",
       "      <th>suppression_used</th>\n",
       "      <th>product_name</th>\n",
       "      <th>units_reimbursed</th>\n",
       "      <th>number_of_prescriptions</th>\n",
       "      <th>total_amount_reimbursed</th>\n",
       "      <th>medicaid_amount_reimbursed</th>\n",
       "      <th>non_medicaid_amount_reimbursed</th>\n",
       "    </tr>\n",
       "  </thead>\n",
       "  <tbody>\n",
       "    <tr>\n",
       "      <th>0</th>\n",
       "      <td>FFSU</td>\n",
       "      <td>AK</td>\n",
       "      <td>00002197590</td>\n",
       "      <td>2</td>\n",
       "      <td>1975</td>\n",
       "      <td>90</td>\n",
       "      <td>2014</td>\n",
       "      <td>4</td>\n",
       "      <td>True</td>\n",
       "      <td>AXIRON</td>\n",
       "      <td>NaN</td>\n",
       "      <td>NaN</td>\n",
       "      <td>NaN</td>\n",
       "      <td>NaN</td>\n",
       "      <td>NaN</td>\n",
       "    </tr>\n",
       "    <tr>\n",
       "      <th>1</th>\n",
       "      <td>FFSU</td>\n",
       "      <td>AK</td>\n",
       "      <td>00002322730</td>\n",
       "      <td>2</td>\n",
       "      <td>3227</td>\n",
       "      <td>30</td>\n",
       "      <td>2014</td>\n",
       "      <td>4</td>\n",
       "      <td>False</td>\n",
       "      <td>STRATTERA</td>\n",
       "      <td>942.0</td>\n",
       "      <td>23.0</td>\n",
       "      <td>7469.27</td>\n",
       "      <td>6751.02</td>\n",
       "      <td>718.25</td>\n",
       "    </tr>\n",
       "    <tr>\n",
       "      <th>2</th>\n",
       "      <td>FFSU</td>\n",
       "      <td>AK</td>\n",
       "      <td>00002322830</td>\n",
       "      <td>2</td>\n",
       "      <td>3228</td>\n",
       "      <td>30</td>\n",
       "      <td>2014</td>\n",
       "      <td>4</td>\n",
       "      <td>False</td>\n",
       "      <td>STRATTERA</td>\n",
       "      <td>2964.0</td>\n",
       "      <td>80.0</td>\n",
       "      <td>24272.29</td>\n",
       "      <td>22274.59</td>\n",
       "      <td>1997.70</td>\n",
       "    </tr>\n",
       "  </tbody>\n",
       "</table>\n",
       "</div>"
      ],
      "text/plain": [
       "  utilization_type state          ndc  labeler_code  product_code  \\\n",
       "0             FFSU    AK  00002197590             2          1975   \n",
       "1             FFSU    AK  00002322730             2          3227   \n",
       "2             FFSU    AK  00002322830             2          3228   \n",
       "\n",
       "  package_size  year  quarter  suppression_used product_name  \\\n",
       "0           90  2014        4              True   AXIRON       \n",
       "1           30  2014        4             False   STRATTERA    \n",
       "2           30  2014        4             False   STRATTERA    \n",
       "\n",
       "   units_reimbursed  number_of_prescriptions  total_amount_reimbursed  \\\n",
       "0               NaN                      NaN                      NaN   \n",
       "1             942.0                     23.0                  7469.27   \n",
       "2            2964.0                     80.0                 24272.29   \n",
       "\n",
       "   medicaid_amount_reimbursed  non_medicaid_amount_reimbursed  \n",
       "0                         NaN                             NaN  \n",
       "1                     6751.02                          718.25  \n",
       "2                    22274.59                         1997.70  "
      ]
     },
     "execution_count": 8,
     "metadata": {},
     "output_type": "execute_result"
    }
   ],
   "source": [
    "df.head(3)"
   ]
  },
  {
   "cell_type": "markdown",
   "id": "e0a6b90e",
   "metadata": {},
   "source": [
    "The NaN's were unexpected.  Let's look at some table stats."
   ]
  },
  {
   "cell_type": "code",
   "execution_count": 9,
   "id": "4d9db268",
   "metadata": {},
   "outputs": [
    {
     "data": {
      "text/html": [
       "<div>\n",
       "<style scoped>\n",
       "    .dataframe tbody tr th:only-of-type {\n",
       "        vertical-align: middle;\n",
       "    }\n",
       "\n",
       "    .dataframe tbody tr th {\n",
       "        vertical-align: top;\n",
       "    }\n",
       "\n",
       "    .dataframe thead th {\n",
       "        text-align: right;\n",
       "    }\n",
       "</style>\n",
       "<table border=\"1\" class=\"dataframe\">\n",
       "  <thead>\n",
       "    <tr style=\"text-align: right;\">\n",
       "      <th></th>\n",
       "      <th>labeler_code</th>\n",
       "      <th>product_code</th>\n",
       "      <th>year</th>\n",
       "      <th>quarter</th>\n",
       "      <th>units_reimbursed</th>\n",
       "      <th>number_of_prescriptions</th>\n",
       "      <th>total_amount_reimbursed</th>\n",
       "      <th>medicaid_amount_reimbursed</th>\n",
       "      <th>non_medicaid_amount_reimbursed</th>\n",
       "    </tr>\n",
       "  </thead>\n",
       "  <tbody>\n",
       "    <tr>\n",
       "      <th>count</th>\n",
       "      <td>4.315519e+06</td>\n",
       "      <td>4.315519e+06</td>\n",
       "      <td>4315519.0</td>\n",
       "      <td>4.315519e+06</td>\n",
       "      <td>2.296919e+06</td>\n",
       "      <td>2.296919e+06</td>\n",
       "      <td>2.296919e+06</td>\n",
       "      <td>2.296919e+06</td>\n",
       "      <td>2.296919e+06</td>\n",
       "    </tr>\n",
       "    <tr>\n",
       "      <th>mean</th>\n",
       "      <td>2.825747e+04</td>\n",
       "      <td>1.748470e+03</td>\n",
       "      <td>2014.0</td>\n",
       "      <td>2.514951e+00</td>\n",
       "      <td>3.237841e+04</td>\n",
       "      <td>5.394589e+02</td>\n",
       "      <td>4.160589e+04</td>\n",
       "      <td>4.006196e+04</td>\n",
       "      <td>1.543936e+03</td>\n",
       "    </tr>\n",
       "    <tr>\n",
       "      <th>std</th>\n",
       "      <td>2.839028e+04</td>\n",
       "      <td>2.342017e+03</td>\n",
       "      <td>0.0</td>\n",
       "      <td>1.118611e+00</td>\n",
       "      <td>3.507061e+05</td>\n",
       "      <td>4.650760e+03</td>\n",
       "      <td>1.222001e+06</td>\n",
       "      <td>1.215269e+06</td>\n",
       "      <td>3.325209e+04</td>\n",
       "    </tr>\n",
       "    <tr>\n",
       "      <th>min</th>\n",
       "      <td>2.000000e+00</td>\n",
       "      <td>-7.800000e+02</td>\n",
       "      <td>2014.0</td>\n",
       "      <td>1.000000e+00</td>\n",
       "      <td>0.000000e+00</td>\n",
       "      <td>1.100000e+01</td>\n",
       "      <td>0.000000e+00</td>\n",
       "      <td>0.000000e+00</td>\n",
       "      <td>0.000000e+00</td>\n",
       "    </tr>\n",
       "    <tr>\n",
       "      <th>25%</th>\n",
       "      <td>3.780000e+02</td>\n",
       "      <td>2.110000e+02</td>\n",
       "      <td>2014.0</td>\n",
       "      <td>2.000000e+00</td>\n",
       "      <td>8.200000e+02</td>\n",
       "      <td>2.300000e+01</td>\n",
       "      <td>3.859100e+02</td>\n",
       "      <td>3.665000e+02</td>\n",
       "      <td>0.000000e+00</td>\n",
       "    </tr>\n",
       "    <tr>\n",
       "      <th>50%</th>\n",
       "      <td>1.671400e+04</td>\n",
       "      <td>5.930000e+02</td>\n",
       "      <td>2014.0</td>\n",
       "      <td>3.000000e+00</td>\n",
       "      <td>2.461000e+03</td>\n",
       "      <td>5.800000e+01</td>\n",
       "      <td>1.471450e+03</td>\n",
       "      <td>1.402080e+03</td>\n",
       "      <td>1.000000e-02</td>\n",
       "    </tr>\n",
       "    <tr>\n",
       "      <th>75%</th>\n",
       "      <td>5.974600e+04</td>\n",
       "      <td>2.586000e+03</td>\n",
       "      <td>2014.0</td>\n",
       "      <td>4.000000e+00</td>\n",
       "      <td>9.532000e+03</td>\n",
       "      <td>2.010000e+02</td>\n",
       "      <td>6.786490e+03</td>\n",
       "      <td>6.457850e+03</td>\n",
       "      <td>6.300000e+01</td>\n",
       "    </tr>\n",
       "    <tr>\n",
       "      <th>max</th>\n",
       "      <td>9.920700e+04</td>\n",
       "      <td>9.999000e+03</td>\n",
       "      <td>2014.0</td>\n",
       "      <td>4.000000e+00</td>\n",
       "      <td>6.005202e+07</td>\n",
       "      <td>1.423366e+06</td>\n",
       "      <td>1.061050e+09</td>\n",
       "      <td>1.061049e+09</td>\n",
       "      <td>7.812896e+06</td>\n",
       "    </tr>\n",
       "  </tbody>\n",
       "</table>\n",
       "</div>"
      ],
      "text/plain": [
       "       labeler_code  product_code       year       quarter  units_reimbursed  \\\n",
       "count  4.315519e+06  4.315519e+06  4315519.0  4.315519e+06      2.296919e+06   \n",
       "mean   2.825747e+04  1.748470e+03     2014.0  2.514951e+00      3.237841e+04   \n",
       "std    2.839028e+04  2.342017e+03        0.0  1.118611e+00      3.507061e+05   \n",
       "min    2.000000e+00 -7.800000e+02     2014.0  1.000000e+00      0.000000e+00   \n",
       "25%    3.780000e+02  2.110000e+02     2014.0  2.000000e+00      8.200000e+02   \n",
       "50%    1.671400e+04  5.930000e+02     2014.0  3.000000e+00      2.461000e+03   \n",
       "75%    5.974600e+04  2.586000e+03     2014.0  4.000000e+00      9.532000e+03   \n",
       "max    9.920700e+04  9.999000e+03     2014.0  4.000000e+00      6.005202e+07   \n",
       "\n",
       "       number_of_prescriptions  total_amount_reimbursed  \\\n",
       "count             2.296919e+06             2.296919e+06   \n",
       "mean              5.394589e+02             4.160589e+04   \n",
       "std               4.650760e+03             1.222001e+06   \n",
       "min               1.100000e+01             0.000000e+00   \n",
       "25%               2.300000e+01             3.859100e+02   \n",
       "50%               5.800000e+01             1.471450e+03   \n",
       "75%               2.010000e+02             6.786490e+03   \n",
       "max               1.423366e+06             1.061050e+09   \n",
       "\n",
       "       medicaid_amount_reimbursed  non_medicaid_amount_reimbursed  \n",
       "count                2.296919e+06                    2.296919e+06  \n",
       "mean                 4.006196e+04                    1.543936e+03  \n",
       "std                  1.215269e+06                    3.325209e+04  \n",
       "min                  0.000000e+00                    0.000000e+00  \n",
       "25%                  3.665000e+02                    0.000000e+00  \n",
       "50%                  1.402080e+03                    1.000000e-02  \n",
       "75%                  6.457850e+03                    6.300000e+01  \n",
       "max                  1.061049e+09                    7.812896e+06  "
      ]
     },
     "execution_count": 9,
     "metadata": {},
     "output_type": "execute_result"
    }
   ],
   "source": [
    "df.describe()"
   ]
  },
  {
   "cell_type": "markdown",
   "id": "4f30ef0c",
   "metadata": {},
   "source": [
    "The first thing I notice is while there are 5M rows, only about 1/2 of them have entries for: \n",
    "* units_reimbursed\n",
    "* number_of_prescriptions\n",
    "* total_amount_reimbursed\n",
    "* medicaid_amount_reimbursed\n",
    "* non_medicaid_amount_reimbursed\n",
    "\n",
    "These seem to correlate with suppression_used as false.  To confirm, we'll perform the following two tests\n",
    "1. Whenever suppression_used is true, all the above fields are na (no non na fields)\n",
    "2. Whenever suppression_used is false, none of the above fields are na (no na fields)"
   ]
  },
  {
   "cell_type": "markdown",
   "id": "9a24bb47",
   "metadata": {},
   "source": [
    "##### 1. Whenever suppression_used is true, all the above fields are na (no non na fields)"
   ]
  },
  {
   "cell_type": "code",
   "execution_count": 10,
   "id": "4630bd48",
   "metadata": {},
   "outputs": [
    {
     "data": {
      "text/plain": [
       "2018600"
      ]
     },
     "execution_count": 10,
     "metadata": {},
     "output_type": "execute_result"
    }
   ],
   "source": [
    "# ensure count of suppression_used==True > 0\n",
    "df[df['suppression_used']].shape[0]"
   ]
  },
  {
   "cell_type": "code",
   "execution_count": 11,
   "id": "8d90318f",
   "metadata": {},
   "outputs": [
    {
     "data": {
      "text/plain": [
       "0"
      ]
     },
     "execution_count": 11,
     "metadata": {},
     "output_type": "execute_result"
    }
   ],
   "source": [
    "# Find the intersection of suppression_used and any non-na values\n",
    "# A count of 0 means no overlap between supression true and any other of specified fields having a non-na value\n",
    "\n",
    "df[(df['suppression_used']) & \n",
    "   (\n",
    "       (~df['number_of_prescriptions'].isna()) | \n",
    "       (~df['units_reimbursed'].isna()) | \n",
    "       (~df['total_amount_reimbursed'].isna()) |\n",
    "       (~df['medicaid_amount_reimbursed'].isna()) |\n",
    "       (~df['non_medicaid_amount_reimbursed'].isna()) \n",
    ")].shape[0]"
   ]
  },
  {
   "cell_type": "markdown",
   "id": "46557545",
   "metadata": {},
   "source": [
    "##### 2. Whenever suppression_used is false, none of the above fields are na (no na fields)"
   ]
  },
  {
   "cell_type": "code",
   "execution_count": 12,
   "id": "d0f8a63f",
   "metadata": {},
   "outputs": [
    {
     "data": {
      "text/plain": [
       "2296919"
      ]
     },
     "execution_count": 12,
     "metadata": {},
     "output_type": "execute_result"
    }
   ],
   "source": [
    "# ensure count of suppression_used==False > 0\n",
    "df[~df['suppression_used']].shape[0]"
   ]
  },
  {
   "cell_type": "code",
   "execution_count": 13,
   "id": "d9395be2",
   "metadata": {},
   "outputs": [
    {
     "data": {
      "text/plain": [
       "0"
      ]
     },
     "execution_count": 13,
     "metadata": {},
     "output_type": "execute_result"
    }
   ],
   "source": [
    "# Find the intersection of suppression_used==False and any na values\n",
    "# A count of 0 means no overlap between supression false and any other of specified fields with value of na\n",
    "df[(~df['suppression_used']) & \n",
    "   (\n",
    "       (df['number_of_prescriptions'].isna()) | \n",
    "       (df['units_reimbursed'].isna()) | \n",
    "       (df['total_amount_reimbursed'].isna()) |\n",
    "       (df['medicaid_amount_reimbursed'].isna()) |\n",
    "       (df['non_medicaid_amount_reimbursed'].isna()) \n",
    ")].shape[0]"
   ]
  },
  {
   "cell_type": "markdown",
   "id": "7e5bbee1",
   "metadata": {},
   "source": [
    "#### Conclusion\n",
    "suppression_used can be used as a filter to determine if the above mentioned fields will have a non-na value"
   ]
  },
  {
   "cell_type": "code",
   "execution_count": 14,
   "id": "534b35dc",
   "metadata": {},
   "outputs": [],
   "source": [
    "df = df[~df['suppression_used']].drop(columns=['suppression_used'])"
   ]
  },
  {
   "cell_type": "markdown",
   "id": "39f1cdb4",
   "metadata": {},
   "source": [
    "### Clean NDC codes\n",
    "We know that NDC codes are numeric and when they're too short, they get padded with leading zeros.\n",
    "By converting to an integer, we can use the space more efficiently, make joins easier, and drop the leading zeros."
   ]
  },
  {
   "cell_type": "code",
   "execution_count": 15,
   "id": "4aeaf9f5",
   "metadata": {},
   "outputs": [],
   "source": [
    "df['ndc'] = pd.to_numeric(df.ndc, downcast='integer') "
   ]
  },
  {
   "cell_type": "markdown",
   "id": "a7462b44",
   "metadata": {},
   "source": [
    "### Now let's look at the data for a single drug"
   ]
  },
  {
   "cell_type": "code",
   "execution_count": 16,
   "id": "7db44f6f",
   "metadata": {},
   "outputs": [
    {
     "data": {
      "text/html": [
       "<div>\n",
       "<style scoped>\n",
       "    .dataframe tbody tr th:only-of-type {\n",
       "        vertical-align: middle;\n",
       "    }\n",
       "\n",
       "    .dataframe tbody tr th {\n",
       "        vertical-align: top;\n",
       "    }\n",
       "\n",
       "    .dataframe thead th {\n",
       "        text-align: right;\n",
       "    }\n",
       "</style>\n",
       "<table border=\"1\" class=\"dataframe\">\n",
       "  <thead>\n",
       "    <tr style=\"text-align: right;\">\n",
       "      <th></th>\n",
       "      <th>utilization_type</th>\n",
       "      <th>state</th>\n",
       "      <th>ndc</th>\n",
       "      <th>labeler_code</th>\n",
       "      <th>product_code</th>\n",
       "      <th>package_size</th>\n",
       "      <th>year</th>\n",
       "      <th>quarter</th>\n",
       "      <th>product_name</th>\n",
       "      <th>units_reimbursed</th>\n",
       "      <th>number_of_prescriptions</th>\n",
       "      <th>total_amount_reimbursed</th>\n",
       "      <th>medicaid_amount_reimbursed</th>\n",
       "      <th>non_medicaid_amount_reimbursed</th>\n",
       "    </tr>\n",
       "  </thead>\n",
       "  <tbody>\n",
       "    <tr>\n",
       "      <th>1</th>\n",
       "      <td>FFSU</td>\n",
       "      <td>AK</td>\n",
       "      <td>2322730</td>\n",
       "      <td>2</td>\n",
       "      <td>3227</td>\n",
       "      <td>30</td>\n",
       "      <td>2014</td>\n",
       "      <td>4</td>\n",
       "      <td>STRATTERA</td>\n",
       "      <td>942.0</td>\n",
       "      <td>23.0</td>\n",
       "      <td>7469.27</td>\n",
       "      <td>6751.02</td>\n",
       "      <td>718.25</td>\n",
       "    </tr>\n",
       "    <tr>\n",
       "      <th>8588</th>\n",
       "      <td>FFSU</td>\n",
       "      <td>AK</td>\n",
       "      <td>2322730</td>\n",
       "      <td>2</td>\n",
       "      <td>3227</td>\n",
       "      <td>30</td>\n",
       "      <td>2014</td>\n",
       "      <td>3</td>\n",
       "      <td>STRATTERA</td>\n",
       "      <td>930.0</td>\n",
       "      <td>27.0</td>\n",
       "      <td>7327.43</td>\n",
       "      <td>6308.99</td>\n",
       "      <td>1018.44</td>\n",
       "    </tr>\n",
       "    <tr>\n",
       "      <th>16439</th>\n",
       "      <td>FFSU</td>\n",
       "      <td>AK</td>\n",
       "      <td>2322730</td>\n",
       "      <td>2</td>\n",
       "      <td>3227</td>\n",
       "      <td>30</td>\n",
       "      <td>2014</td>\n",
       "      <td>2</td>\n",
       "      <td>STRATTERA</td>\n",
       "      <td>762.0</td>\n",
       "      <td>21.0</td>\n",
       "      <td>6088.17</td>\n",
       "      <td>4760.39</td>\n",
       "      <td>1327.78</td>\n",
       "    </tr>\n",
       "    <tr>\n",
       "      <th>24815</th>\n",
       "      <td>FFSU</td>\n",
       "      <td>AK</td>\n",
       "      <td>2322730</td>\n",
       "      <td>2</td>\n",
       "      <td>3227</td>\n",
       "      <td>30</td>\n",
       "      <td>2014</td>\n",
       "      <td>1</td>\n",
       "      <td>STRATTERA</td>\n",
       "      <td>855.0</td>\n",
       "      <td>25.0</td>\n",
       "      <td>6880.17</td>\n",
       "      <td>5693.59</td>\n",
       "      <td>1186.58</td>\n",
       "    </tr>\n",
       "  </tbody>\n",
       "</table>\n",
       "</div>"
      ],
      "text/plain": [
       "      utilization_type state      ndc  labeler_code  product_code  \\\n",
       "1                 FFSU    AK  2322730             2          3227   \n",
       "8588              FFSU    AK  2322730             2          3227   \n",
       "16439             FFSU    AK  2322730             2          3227   \n",
       "24815             FFSU    AK  2322730             2          3227   \n",
       "\n",
       "      package_size  year  quarter product_name  units_reimbursed  \\\n",
       "1               30  2014        4   STRATTERA              942.0   \n",
       "8588            30  2014        3   STRATTERA              930.0   \n",
       "16439           30  2014        2   STRATTERA              762.0   \n",
       "24815           30  2014        1   STRATTERA              855.0   \n",
       "\n",
       "       number_of_prescriptions  total_amount_reimbursed  \\\n",
       "1                         23.0                  7469.27   \n",
       "8588                      27.0                  7327.43   \n",
       "16439                     21.0                  6088.17   \n",
       "24815                     25.0                  6880.17   \n",
       "\n",
       "       medicaid_amount_reimbursed  non_medicaid_amount_reimbursed  \n",
       "1                         6751.02                          718.25  \n",
       "8588                      6308.99                         1018.44  \n",
       "16439                     4760.39                         1327.78  \n",
       "24815                     5693.59                         1186.58  "
      ]
     },
     "execution_count": 16,
     "metadata": {},
     "output_type": "execute_result"
    }
   ],
   "source": [
    "df[(df.ndc==2322730)&(df.state=='AK')]"
   ]
  },
  {
   "cell_type": "code",
   "execution_count": 17,
   "id": "3fb7947b",
   "metadata": {},
   "outputs": [
    {
     "data": {
      "text/html": [
       "<div>\n",
       "<style scoped>\n",
       "    .dataframe tbody tr th:only-of-type {\n",
       "        vertical-align: middle;\n",
       "    }\n",
       "\n",
       "    .dataframe tbody tr th {\n",
       "        vertical-align: top;\n",
       "    }\n",
       "\n",
       "    .dataframe thead th {\n",
       "        text-align: right;\n",
       "    }\n",
       "</style>\n",
       "<table border=\"1\" class=\"dataframe\">\n",
       "  <thead>\n",
       "    <tr style=\"text-align: right;\">\n",
       "      <th></th>\n",
       "      <th>utilization_type</th>\n",
       "      <th>state</th>\n",
       "      <th>ndc</th>\n",
       "      <th>labeler_code</th>\n",
       "      <th>product_code</th>\n",
       "      <th>package_size</th>\n",
       "      <th>year</th>\n",
       "      <th>quarter</th>\n",
       "      <th>product_name</th>\n",
       "      <th>units_reimbursed</th>\n",
       "      <th>number_of_prescriptions</th>\n",
       "      <th>total_amount_reimbursed</th>\n",
       "      <th>medicaid_amount_reimbursed</th>\n",
       "      <th>non_medicaid_amount_reimbursed</th>\n",
       "    </tr>\n",
       "  </thead>\n",
       "  <tbody>\n",
       "    <tr>\n",
       "      <th>2315318</th>\n",
       "      <td>FFSU</td>\n",
       "      <td>NV</td>\n",
       "      <td>2322730</td>\n",
       "      <td>2</td>\n",
       "      <td>3227</td>\n",
       "      <td>30</td>\n",
       "      <td>2014</td>\n",
       "      <td>4</td>\n",
       "      <td>STRATTERA</td>\n",
       "      <td>2294.0</td>\n",
       "      <td>49.0</td>\n",
       "      <td>19493.37</td>\n",
       "      <td>16949.16</td>\n",
       "      <td>2544.21</td>\n",
       "    </tr>\n",
       "    <tr>\n",
       "      <th>2315319</th>\n",
       "      <td>MCOU</td>\n",
       "      <td>NV</td>\n",
       "      <td>2322730</td>\n",
       "      <td>2</td>\n",
       "      <td>3227</td>\n",
       "      <td>30</td>\n",
       "      <td>2014</td>\n",
       "      <td>4</td>\n",
       "      <td>STRATTERA</td>\n",
       "      <td>453.0</td>\n",
       "      <td>17.0</td>\n",
       "      <td>3646.21</td>\n",
       "      <td>3646.21</td>\n",
       "      <td>0.00</td>\n",
       "    </tr>\n",
       "    <tr>\n",
       "      <th>2339580</th>\n",
       "      <td>FFSU</td>\n",
       "      <td>NV</td>\n",
       "      <td>2322730</td>\n",
       "      <td>2</td>\n",
       "      <td>3227</td>\n",
       "      <td>30</td>\n",
       "      <td>2014</td>\n",
       "      <td>3</td>\n",
       "      <td>STRATTERA</td>\n",
       "      <td>2450.0</td>\n",
       "      <td>57.0</td>\n",
       "      <td>20459.61</td>\n",
       "      <td>18891.27</td>\n",
       "      <td>1568.34</td>\n",
       "    </tr>\n",
       "    <tr>\n",
       "      <th>2362622</th>\n",
       "      <td>MCOU</td>\n",
       "      <td>NV</td>\n",
       "      <td>2322730</td>\n",
       "      <td>2</td>\n",
       "      <td>3227</td>\n",
       "      <td>30</td>\n",
       "      <td>2014</td>\n",
       "      <td>2</td>\n",
       "      <td>STRATTERA</td>\n",
       "      <td>427.0</td>\n",
       "      <td>15.0</td>\n",
       "      <td>3104.94</td>\n",
       "      <td>3104.94</td>\n",
       "      <td>0.00</td>\n",
       "    </tr>\n",
       "    <tr>\n",
       "      <th>2362623</th>\n",
       "      <td>FFSU</td>\n",
       "      <td>NV</td>\n",
       "      <td>2322730</td>\n",
       "      <td>2</td>\n",
       "      <td>3227</td>\n",
       "      <td>30</td>\n",
       "      <td>2014</td>\n",
       "      <td>2</td>\n",
       "      <td>STRATTERA</td>\n",
       "      <td>2368.0</td>\n",
       "      <td>51.0</td>\n",
       "      <td>18136.82</td>\n",
       "      <td>16665.23</td>\n",
       "      <td>1471.59</td>\n",
       "    </tr>\n",
       "    <tr>\n",
       "      <th>2386017</th>\n",
       "      <td>MCOU</td>\n",
       "      <td>NV</td>\n",
       "      <td>2322730</td>\n",
       "      <td>2</td>\n",
       "      <td>3227</td>\n",
       "      <td>30</td>\n",
       "      <td>2014</td>\n",
       "      <td>1</td>\n",
       "      <td>STRATTERA</td>\n",
       "      <td>449.0</td>\n",
       "      <td>17.0</td>\n",
       "      <td>3272.38</td>\n",
       "      <td>3272.38</td>\n",
       "      <td>0.00</td>\n",
       "    </tr>\n",
       "    <tr>\n",
       "      <th>2386018</th>\n",
       "      <td>FFSU</td>\n",
       "      <td>NV</td>\n",
       "      <td>2322730</td>\n",
       "      <td>2</td>\n",
       "      <td>3227</td>\n",
       "      <td>30</td>\n",
       "      <td>2014</td>\n",
       "      <td>1</td>\n",
       "      <td>STRATTERA</td>\n",
       "      <td>2209.0</td>\n",
       "      <td>48.0</td>\n",
       "      <td>16924.64</td>\n",
       "      <td>16096.91</td>\n",
       "      <td>827.73</td>\n",
       "    </tr>\n",
       "  </tbody>\n",
       "</table>\n",
       "</div>"
      ],
      "text/plain": [
       "        utilization_type state      ndc  labeler_code  product_code  \\\n",
       "2315318             FFSU    NV  2322730             2          3227   \n",
       "2315319             MCOU    NV  2322730             2          3227   \n",
       "2339580             FFSU    NV  2322730             2          3227   \n",
       "2362622             MCOU    NV  2322730             2          3227   \n",
       "2362623             FFSU    NV  2322730             2          3227   \n",
       "2386017             MCOU    NV  2322730             2          3227   \n",
       "2386018             FFSU    NV  2322730             2          3227   \n",
       "\n",
       "        package_size  year  quarter product_name  units_reimbursed  \\\n",
       "2315318           30  2014        4   STRATTERA             2294.0   \n",
       "2315319           30  2014        4   STRATTERA              453.0   \n",
       "2339580           30  2014        3   STRATTERA             2450.0   \n",
       "2362622           30  2014        2   STRATTERA              427.0   \n",
       "2362623           30  2014        2   STRATTERA             2368.0   \n",
       "2386017           30  2014        1   STRATTERA              449.0   \n",
       "2386018           30  2014        1   STRATTERA             2209.0   \n",
       "\n",
       "         number_of_prescriptions  total_amount_reimbursed  \\\n",
       "2315318                     49.0                 19493.37   \n",
       "2315319                     17.0                  3646.21   \n",
       "2339580                     57.0                 20459.61   \n",
       "2362622                     15.0                  3104.94   \n",
       "2362623                     51.0                 18136.82   \n",
       "2386017                     17.0                  3272.38   \n",
       "2386018                     48.0                 16924.64   \n",
       "\n",
       "         medicaid_amount_reimbursed  non_medicaid_amount_reimbursed  \n",
       "2315318                    16949.16                         2544.21  \n",
       "2315319                     3646.21                            0.00  \n",
       "2339580                    18891.27                         1568.34  \n",
       "2362622                     3104.94                            0.00  \n",
       "2362623                    16665.23                         1471.59  \n",
       "2386017                     3272.38                            0.00  \n",
       "2386018                    16096.91                          827.73  "
      ]
     },
     "execution_count": 17,
     "metadata": {},
     "output_type": "execute_result"
    }
   ],
   "source": [
    "# and the same drug for a different state?\n",
    "df[(df.ndc==2322730)&(df.state=='NV')]"
   ]
  },
  {
   "cell_type": "markdown",
   "id": "48322f98",
   "metadata": {},
   "source": [
    "For this study, we're not interested in differentiating between \n",
    "* product_name (we're more interested in drug class, which we'll get from another file)\n",
    "* labeler_code\n",
    "* product_code\n",
    "* utilization_type (FFSU = Fee For Service Utilization vs MCOU - Managed Care Organization Utilization)\n",
    "* state, \n",
    "* quarter the record was taken in.  \n",
    "\n",
    "As such we can drop these fields and collapse (sum) the numeric values."
   ]
  },
  {
   "cell_type": "code",
   "execution_count": 18,
   "id": "6966a6f9",
   "metadata": {},
   "outputs": [],
   "source": [
    "df = df.groupby(['ndc', 'package_size','year'], as_index=False).agg(\n",
    "    units_reimbursed=pd.NamedAgg(column=\"units_reimbursed\", aggfunc=\"sum\"),\n",
    "    number_of_prescriptions=pd.NamedAgg(column=\"number_of_prescriptions\", aggfunc=\"sum\"),\n",
    "    total_amount_reimbursed=pd.NamedAgg(column=\"total_amount_reimbursed\", aggfunc=\"sum\"),\n",
    "    medicaid_amount_reimbursed=pd.NamedAgg(column=\"medicaid_amount_reimbursed\", aggfunc=\"sum\"),\n",
    "    non_medicaid_amount_reimbursed=pd.NamedAgg(column=\"non_medicaid_amount_reimbursed\", aggfunc=\"sum\")\n",
    ")"
   ]
  },
  {
   "cell_type": "code",
   "execution_count": 19,
   "id": "1ae26efd",
   "metadata": {},
   "outputs": [
    {
     "data": {
      "text/html": [
       "<div>\n",
       "<style scoped>\n",
       "    .dataframe tbody tr th:only-of-type {\n",
       "        vertical-align: middle;\n",
       "    }\n",
       "\n",
       "    .dataframe tbody tr th {\n",
       "        vertical-align: top;\n",
       "    }\n",
       "\n",
       "    .dataframe thead th {\n",
       "        text-align: right;\n",
       "    }\n",
       "</style>\n",
       "<table border=\"1\" class=\"dataframe\">\n",
       "  <thead>\n",
       "    <tr style=\"text-align: right;\">\n",
       "      <th></th>\n",
       "      <th>ndc</th>\n",
       "      <th>package_size</th>\n",
       "      <th>year</th>\n",
       "      <th>units_reimbursed</th>\n",
       "      <th>number_of_prescriptions</th>\n",
       "      <th>total_amount_reimbursed</th>\n",
       "      <th>medicaid_amount_reimbursed</th>\n",
       "      <th>non_medicaid_amount_reimbursed</th>\n",
       "    </tr>\n",
       "  </thead>\n",
       "  <tbody>\n",
       "    <tr>\n",
       "      <th>0</th>\n",
       "      <td>2143480</td>\n",
       "      <td>80</td>\n",
       "      <td>2014</td>\n",
       "      <td>90.00</td>\n",
       "      <td>23.0</td>\n",
       "      <td>21635.61</td>\n",
       "      <td>21593.61</td>\n",
       "      <td>42.00</td>\n",
       "    </tr>\n",
       "    <tr>\n",
       "      <th>1</th>\n",
       "      <td>2197590</td>\n",
       "      <td>90</td>\n",
       "      <td>2014</td>\n",
       "      <td>1459726.22</td>\n",
       "      <td>14828.0</td>\n",
       "      <td>5853090.72</td>\n",
       "      <td>5790959.42</td>\n",
       "      <td>62131.30</td>\n",
       "    </tr>\n",
       "    <tr>\n",
       "      <th>2</th>\n",
       "      <td>2300475</td>\n",
       "      <td>75</td>\n",
       "      <td>2014</td>\n",
       "      <td>2049.00</td>\n",
       "      <td>400.0</td>\n",
       "      <td>75958.59</td>\n",
       "      <td>75510.47</td>\n",
       "      <td>448.12</td>\n",
       "    </tr>\n",
       "  </tbody>\n",
       "</table>\n",
       "</div>"
      ],
      "text/plain": [
       "       ndc package_size  year  units_reimbursed  number_of_prescriptions  \\\n",
       "0  2143480           80  2014             90.00                     23.0   \n",
       "1  2197590           90  2014        1459726.22                  14828.0   \n",
       "2  2300475           75  2014           2049.00                    400.0   \n",
       "\n",
       "   total_amount_reimbursed  medicaid_amount_reimbursed  \\\n",
       "0                 21635.61                    21593.61   \n",
       "1               5853090.72                  5790959.42   \n",
       "2                 75958.59                    75510.47   \n",
       "\n",
       "   non_medicaid_amount_reimbursed  \n",
       "0                           42.00  \n",
       "1                        62131.30  \n",
       "2                          448.12  "
      ]
     },
     "execution_count": 19,
     "metadata": {},
     "output_type": "execute_result"
    }
   ],
   "source": [
    "df.head(3)"
   ]
  },
  {
   "cell_type": "markdown",
   "id": "2a624599",
   "metadata": {},
   "source": [
    "This gives us something we can work with."
   ]
  }
 ],
 "metadata": {
  "kernelspec": {
   "display_name": "mads-kernel",
   "language": "python",
   "name": "mads-kernel"
  },
  "language_info": {
   "codemirror_mode": {
    "name": "ipython",
    "version": 3
   },
   "file_extension": ".py",
   "mimetype": "text/x-python",
   "name": "python",
   "nbconvert_exporter": "python",
   "pygments_lexer": "ipython3",
   "version": "3.8.13"
  }
 },
 "nbformat": 4,
 "nbformat_minor": 5
}
