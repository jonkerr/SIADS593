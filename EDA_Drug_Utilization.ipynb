{
 "cells": [
  {
   "cell_type": "markdown",
   "id": "37ca8c37",
   "metadata": {},
   "source": [
    "# Drug Utilization EDA\n",
    "Explore the drug utilization CSV found at https://data.medicaid.gov/api/1/datastore/query/daba7980-e219-5996-9bec-90358fd156f1/0/download"
   ]
  },
  {
   "cell_type": "code",
   "execution_count": 1,
   "id": "672589c8",
   "metadata": {},
   "outputs": [],
   "source": [
    "import pandas as pd\n",
    "import os"
   ]
  },
  {
   "cell_type": "markdown",
   "id": "af62b900",
   "metadata": {},
   "source": [
    "The preferred route to get all the raw data is via the Makefile.\\\n",
    "The following cell is just a catch all to ensure the data is available for EDA."
   ]
  },
  {
   "cell_type": "code",
   "execution_count": 2,
   "id": "f05a44d9",
   "metadata": {},
   "outputs": [],
   "source": [
    "path = 'raw_data/util/drug_utilization_2019.csv'\n",
    "if not os.path.exists(path):\n",
    "    import get_data\n",
    "    get_data.download_drug_utiliztion(path)"
   ]
  },
  {
   "cell_type": "code",
   "execution_count": 3,
   "id": "06d61fd1",
   "metadata": {},
   "outputs": [],
   "source": [
    "df = pd.read_csv(path)"
   ]
  },
  {
   "cell_type": "markdown",
   "id": "f1466196",
   "metadata": {},
   "source": [
    "### What do we notice about the first 3 rows?"
   ]
  },
  {
   "cell_type": "code",
   "execution_count": 4,
   "id": "c8498d0e",
   "metadata": {},
   "outputs": [
    {
     "data": {
      "text/html": [
       "<div>\n",
       "<style scoped>\n",
       "    .dataframe tbody tr th:only-of-type {\n",
       "        vertical-align: middle;\n",
       "    }\n",
       "\n",
       "    .dataframe tbody tr th {\n",
       "        vertical-align: top;\n",
       "    }\n",
       "\n",
       "    .dataframe thead th {\n",
       "        text-align: right;\n",
       "    }\n",
       "</style>\n",
       "<table border=\"1\" class=\"dataframe\">\n",
       "  <thead>\n",
       "    <tr style=\"text-align: right;\">\n",
       "      <th></th>\n",
       "      <th>utilization_type</th>\n",
       "      <th>state</th>\n",
       "      <th>ndc</th>\n",
       "      <th>labeler_code</th>\n",
       "      <th>product_code</th>\n",
       "      <th>package_size</th>\n",
       "      <th>year</th>\n",
       "      <th>quarter</th>\n",
       "      <th>suppression_used</th>\n",
       "      <th>product_name</th>\n",
       "      <th>units_reimbursed</th>\n",
       "      <th>number_of_prescriptions</th>\n",
       "      <th>total_amount_reimbursed</th>\n",
       "      <th>medicaid_amount_reimbursed</th>\n",
       "      <th>non_medicaid_amount_reimbursed</th>\n",
       "    </tr>\n",
       "  </thead>\n",
       "  <tbody>\n",
       "    <tr>\n",
       "      <th>0</th>\n",
       "      <td>FFSU</td>\n",
       "      <td>AK</td>\n",
       "      <td>2143380</td>\n",
       "      <td>2</td>\n",
       "      <td>1433</td>\n",
       "      <td>80.0</td>\n",
       "      <td>2019</td>\n",
       "      <td>4</td>\n",
       "      <td>False</td>\n",
       "      <td>TRULICITY</td>\n",
       "      <td>250.0</td>\n",
       "      <td>125.0</td>\n",
       "      <td>90617.88</td>\n",
       "      <td>87561.30</td>\n",
       "      <td>3056.58</td>\n",
       "    </tr>\n",
       "    <tr>\n",
       "      <th>1</th>\n",
       "      <td>FFSU</td>\n",
       "      <td>AK</td>\n",
       "      <td>2143480</td>\n",
       "      <td>2</td>\n",
       "      <td>1434</td>\n",
       "      <td>80.0</td>\n",
       "      <td>2019</td>\n",
       "      <td>4</td>\n",
       "      <td>False</td>\n",
       "      <td>TRULICITY</td>\n",
       "      <td>262.0</td>\n",
       "      <td>131.0</td>\n",
       "      <td>95679.25</td>\n",
       "      <td>92129.08</td>\n",
       "      <td>3550.17</td>\n",
       "    </tr>\n",
       "    <tr>\n",
       "      <th>2</th>\n",
       "      <td>FFSU</td>\n",
       "      <td>AK</td>\n",
       "      <td>2143611</td>\n",
       "      <td>2</td>\n",
       "      <td>1436</td>\n",
       "      <td>11.0</td>\n",
       "      <td>2019</td>\n",
       "      <td>4</td>\n",
       "      <td>True</td>\n",
       "      <td>EMGALITY P</td>\n",
       "      <td>NaN</td>\n",
       "      <td>NaN</td>\n",
       "      <td>NaN</td>\n",
       "      <td>NaN</td>\n",
       "      <td>NaN</td>\n",
       "    </tr>\n",
       "  </tbody>\n",
       "</table>\n",
       "</div>"
      ],
      "text/plain": [
       "  utilization_type state      ndc  labeler_code  product_code  package_size  \\\n",
       "0             FFSU    AK  2143380             2          1433          80.0   \n",
       "1             FFSU    AK  2143480             2          1434          80.0   \n",
       "2             FFSU    AK  2143611             2          1436          11.0   \n",
       "\n",
       "   year  quarter  suppression_used product_name  units_reimbursed  \\\n",
       "0  2019        4             False   TRULICITY              250.0   \n",
       "1  2019        4             False   TRULICITY              262.0   \n",
       "2  2019        4              True   EMGALITY P               NaN   \n",
       "\n",
       "   number_of_prescriptions  total_amount_reimbursed  \\\n",
       "0                    125.0                 90617.88   \n",
       "1                    131.0                 95679.25   \n",
       "2                      NaN                      NaN   \n",
       "\n",
       "   medicaid_amount_reimbursed  non_medicaid_amount_reimbursed  \n",
       "0                    87561.30                         3056.58  \n",
       "1                    92129.08                         3550.17  \n",
       "2                         NaN                             NaN  "
      ]
     },
     "execution_count": 4,
     "metadata": {},
     "output_type": "execute_result"
    }
   ],
   "source": [
    "df.head(3)"
   ]
  },
  {
   "cell_type": "code",
   "execution_count": 5,
   "id": "24ca7190",
   "metadata": {},
   "outputs": [
    {
     "data": {
      "text/plain": [
       "utilization_type                   object\n",
       "state                              object\n",
       "ndc                                 int64\n",
       "labeler_code                        int64\n",
       "product_code                        int64\n",
       "package_size                      float64\n",
       "year                                int64\n",
       "quarter                             int64\n",
       "suppression_used                     bool\n",
       "product_name                       object\n",
       "units_reimbursed                  float64\n",
       "number_of_prescriptions           float64\n",
       "total_amount_reimbursed           float64\n",
       "medicaid_amount_reimbursed        float64\n",
       "non_medicaid_amount_reimbursed    float64\n",
       "dtype: object"
      ]
     },
     "execution_count": 5,
     "metadata": {},
     "output_type": "execute_result"
    }
   ],
   "source": [
    "df.dtypes"
   ]
  },
  {
   "cell_type": "code",
   "execution_count": 6,
   "id": "83cd6433",
   "metadata": {},
   "outputs": [],
   "source": [
    " dtypes = {\n",
    "        'utilization_type':'object',\n",
    "        'state': 'object',\n",
    "        'ndc': 'object',\n",
    "        'labeler_code': 'int64',\n",
    "        'product_code': 'int64',\n",
    "        'package_size': 'float64',\n",
    "        'year': 'int64',\n",
    "        'quarter': 'int64',\n",
    "        'suppression_used': 'bool',\n",
    "        'product_name': 'object',\n",
    "        'units_reimbursed': 'float64',\n",
    "        'number_of_prescriptions': 'float64',\n",
    "        'total_amount_reimbursed': 'float64',\n",
    "        'medicaid_amount_reimbursed': 'float64',\n",
    "        'non_medicaid_amount_reimbursed': 'float64',\n",
    "    }"
   ]
  },
  {
   "cell_type": "code",
   "execution_count": 7,
   "id": "36401791",
   "metadata": {},
   "outputs": [
    {
     "name": "stderr",
     "output_type": "stream",
     "text": [
      "/tmp/ipykernel_802/3868201103.py:1: DtypeWarning: Columns (2,5) have mixed types. Specify dtype option on import or set low_memory=False.\n",
      "  dfdt = pd.read_csv('raw_data/util/drug_utilization_2014.csv') #, dtype=dtypes)\n"
     ]
    },
    {
     "data": {
      "text/plain": [
       "utilization_type                   object\n",
       "state                              object\n",
       "ndc                                object\n",
       "labeler_code                        int64\n",
       "product_code                        int64\n",
       "package_size                       object\n",
       "year                                int64\n",
       "quarter                             int64\n",
       "suppression_used                     bool\n",
       "product_name                       object\n",
       "units_reimbursed                  float64\n",
       "number_of_prescriptions           float64\n",
       "total_amount_reimbursed           float64\n",
       "medicaid_amount_reimbursed        float64\n",
       "non_medicaid_amount_reimbursed    float64\n",
       "dtype: object"
      ]
     },
     "execution_count": 7,
     "metadata": {},
     "output_type": "execute_result"
    }
   ],
   "source": [
    "dfdt = pd.read_csv('raw_data/util/drug_utilization_2014.csv') #, dtype=dtypes)\n",
    "dfdt.dtypes"
   ]
  },
  {
   "cell_type": "code",
   "execution_count": 8,
   "id": "95497796",
   "metadata": {},
   "outputs": [
    {
     "data": {
      "text/plain": [
       "array(['90', '30', '60', '33', '02', '01', '59', '17', '05', '20', '28',\n",
       "       '21', '11', '12', '10', '22', '16', '09', '29', '85', '50', '82',\n",
       "       '31', '54', '61', '44', '62', '36', '18', '71', '03', '32', '13',\n",
       "       '25', '04', '51', '55', '06', '19', '08', '35', '23', '81', '70',\n",
       "       '07', '91', '83', '45', '00', '41', '46', '58', '26', '27', '63',\n",
       "       '24', '99', '49', '47', '75', '92', '15', '14', '56', '38', '86',\n",
       "       '40', '68', '66', '80', '42', '52', '34', '87', '98', '43', '53',\n",
       "       '94', '73', '74', '64', '79', '76', '78', '65', '89', '88', '95',\n",
       "       '93', '37', '97', '96', '39', '48', '77', '69', '67', '72', '57',\n",
       "       '84', '5-', '7-', 10, 13, 21, 81, 91, 11, 12, 83, 1, 22, 28, 73,\n",
       "       45, 5, 30, 44, 79, 60, 31, 33, 88, 6, 3, 2, 4, 0, 32, 85, 25, 20,\n",
       "       29, 41, 46, 58, 47, 26, 27, 63, 49, 24, 55, 19, 16, 7, 68, 50, 18,\n",
       "       36, 57, 99, 23, 15, 51, 70, 75, 90, 92, 42, 35, 8, 48, 14, 96, 62,\n",
       "       71, 56, 38, 93, 66, 34, 40, 53, 80, 54, 67, 61, 52, 97, 59, 82, 87,\n",
       "       98, 43, 86, 76, 94, 17, 74, 64, 78, 65, 89, 95, 72, 37, 39, 9, 77,\n",
       "       69, 84, '0', '2', '1', '6'], dtype=object)"
      ]
     },
     "execution_count": 8,
     "metadata": {},
     "output_type": "execute_result"
    }
   ],
   "source": [
    "dfdt.package_size.unique()"
   ]
  },
  {
   "cell_type": "code",
   "execution_count": 14,
   "id": "a8db35f1",
   "metadata": {},
   "outputs": [
    {
     "data": {
      "text/plain": [
       "31185      59762-4537-\n",
       "1847206    59762-4537-\n",
       "Name: ndc, dtype: object"
      ]
     },
     "execution_count": 14,
     "metadata": {},
     "output_type": "execute_result"
    }
   ],
   "source": [
    "dfdt[dfdt.package_size=='7-'].ndc"
   ]
  },
  {
   "cell_type": "code",
   "execution_count": 15,
   "id": "5af0df8d",
   "metadata": {},
   "outputs": [],
   "source": [
    "dtypes = {\n",
    "        'utilization_type':'object',\n",
    "        'state': 'object',\n",
    "        'ndc': 'object', #'int64',\n",
    "        'labeler_code': 'int64',\n",
    "        'product_code': 'int64',\n",
    "        'package_size': 'object', #'float64',\n",
    "        'year': 'int64',\n",
    "        'quarter': 'int64',\n",
    "        'suppression_used': 'bool',\n",
    "        'product_name': 'object',\n",
    "        'units_reimbursed': 'float64',\n",
    "        'number_of_prescriptions': 'float64',\n",
    "        'total_amount_reimbursed': 'float64',\n",
    "        'medicaid_amount_reimbursed': 'float64',\n",
    "        'non_medicaid_amount_reimbursed': 'float64',\n",
    "    }"
   ]
  },
  {
   "cell_type": "code",
   "execution_count": 16,
   "id": "75ec7b63",
   "metadata": {},
   "outputs": [],
   "source": [
    "dfdt = pd.read_csv('raw_data/util/drug_utilization_2014.csv', dtype=dtypes)\n"
   ]
  },
  {
   "cell_type": "code",
   "execution_count": 32,
   "id": "b405e6ff",
   "metadata": {},
   "outputs": [
    {
     "name": "stdout",
     "output_type": "stream",
     "text": [
      "CPU times: user 2 µs, sys: 1 µs, total: 3 µs\n",
      "Wall time: 5.01 µs\n"
     ]
    }
   ],
   "source": [
    "%time\n",
    "dfdt.ndc = dfdt.ndc.str.replace('-','').str.strip()\n",
    "dfdt.package_size = dfdt.package_size.str.replace('-','').str.strip()\n",
    "dfdt = dfdt.astype({'ndc':'int64', 'package_size':'int64'})"
   ]
  },
  {
   "cell_type": "code",
   "execution_count": 33,
   "id": "907595d4",
   "metadata": {},
   "outputs": [
    {
     "data": {
      "text/plain": [
       "utilization_type                   object\n",
       "state                              object\n",
       "ndc                                 int64\n",
       "labeler_code                        int64\n",
       "product_code                        int64\n",
       "package_size                        int64\n",
       "year                                int64\n",
       "quarter                             int64\n",
       "suppression_used                     bool\n",
       "product_name                       object\n",
       "units_reimbursed                  float64\n",
       "number_of_prescriptions           float64\n",
       "total_amount_reimbursed           float64\n",
       "medicaid_amount_reimbursed        float64\n",
       "non_medicaid_amount_reimbursed    float64\n",
       "dtype: object"
      ]
     },
     "execution_count": 33,
     "metadata": {},
     "output_type": "execute_result"
    }
   ],
   "source": [
    "dfdt.dtypes"
   ]
  },
  {
   "cell_type": "code",
   "execution_count": null,
   "id": "caf0e198",
   "metadata": {},
   "outputs": [],
   "source": []
  },
  {
   "cell_type": "code",
   "execution_count": 28,
   "id": "1b905895",
   "metadata": {},
   "outputs": [
    {
     "data": {
      "text/plain": [
       "array(['90', '30', '60', '33', '02', '01', '59', '17', '05', '20', '28',\n",
       "       '21', '11', '12', '10', '22', '16', '09', '29', '85', '50', '82',\n",
       "       '31', '54', '61', '44', '62', '36', '18', '71', '03', '32', '13',\n",
       "       '25', '04', '51', '55', '06', '19', '08', '35', '23', '81', '70',\n",
       "       '07', '91', '83', '45', '00', '41', '46', '58', '26', '27', '63',\n",
       "       '24', '99', '49', '47', '75', '92', '15', '14', '56', '38', '86',\n",
       "       '40', '68', '66', '80', '42', '52', '34', '87', '98', '43', '53',\n",
       "       '94', '73', '74', '64', '79', '76', '78', '65', '89', '88', '95',\n",
       "       '93', '37', '97', '96', '39', '48', '77', '69', '67', '72', '57',\n",
       "       '84', '5-', '7-', '0', '2', '1', '6', '3', '5'], dtype=object)"
      ]
     },
     "execution_count": 28,
     "metadata": {},
     "output_type": "execute_result"
    }
   ],
   "source": [
    "dfdt.package_size.unique() #iloc[-2:]"
   ]
  },
  {
   "cell_type": "code",
   "execution_count": 10,
   "id": "7db44f6f",
   "metadata": {},
   "outputs": [
    {
     "data": {
      "text/html": [
       "<div>\n",
       "<style scoped>\n",
       "    .dataframe tbody tr th:only-of-type {\n",
       "        vertical-align: middle;\n",
       "    }\n",
       "\n",
       "    .dataframe tbody tr th {\n",
       "        vertical-align: top;\n",
       "    }\n",
       "\n",
       "    .dataframe thead th {\n",
       "        text-align: right;\n",
       "    }\n",
       "</style>\n",
       "<table border=\"1\" class=\"dataframe\">\n",
       "  <thead>\n",
       "    <tr style=\"text-align: right;\">\n",
       "      <th></th>\n",
       "      <th>utilization_type</th>\n",
       "      <th>state</th>\n",
       "      <th>ndc</th>\n",
       "      <th>labeler_code</th>\n",
       "      <th>product_code</th>\n",
       "      <th>package_size</th>\n",
       "      <th>year</th>\n",
       "      <th>quarter</th>\n",
       "      <th>suppression_used</th>\n",
       "      <th>product_name</th>\n",
       "      <th>units_reimbursed</th>\n",
       "      <th>number_of_prescriptions</th>\n",
       "      <th>total_amount_reimbursed</th>\n",
       "      <th>medicaid_amount_reimbursed</th>\n",
       "      <th>non_medicaid_amount_reimbursed</th>\n",
       "    </tr>\n",
       "  </thead>\n",
       "  <tbody>\n",
       "    <tr>\n",
       "      <th>1</th>\n",
       "      <td>FFSU</td>\n",
       "      <td>AK</td>\n",
       "      <td>2143480</td>\n",
       "      <td>2</td>\n",
       "      <td>1434</td>\n",
       "      <td>80.0</td>\n",
       "      <td>2019</td>\n",
       "      <td>4</td>\n",
       "      <td>False</td>\n",
       "      <td>TRULICITY</td>\n",
       "      <td>262.0</td>\n",
       "      <td>131.0</td>\n",
       "      <td>95679.25</td>\n",
       "      <td>92129.08</td>\n",
       "      <td>3550.17</td>\n",
       "    </tr>\n",
       "    <tr>\n",
       "      <th>10638</th>\n",
       "      <td>FFSU</td>\n",
       "      <td>AK</td>\n",
       "      <td>2143480</td>\n",
       "      <td>2</td>\n",
       "      <td>1434</td>\n",
       "      <td>80.0</td>\n",
       "      <td>2019</td>\n",
       "      <td>3</td>\n",
       "      <td>False</td>\n",
       "      <td>TRULICITY</td>\n",
       "      <td>220.0</td>\n",
       "      <td>110.0</td>\n",
       "      <td>80252.04</td>\n",
       "      <td>77907.68</td>\n",
       "      <td>2344.36</td>\n",
       "    </tr>\n",
       "    <tr>\n",
       "      <th>21363</th>\n",
       "      <td>FFSU</td>\n",
       "      <td>AK</td>\n",
       "      <td>2143480</td>\n",
       "      <td>2</td>\n",
       "      <td>1434</td>\n",
       "      <td>80.0</td>\n",
       "      <td>2019</td>\n",
       "      <td>2</td>\n",
       "      <td>False</td>\n",
       "      <td>TRULICITY</td>\n",
       "      <td>162.0</td>\n",
       "      <td>81.0</td>\n",
       "      <td>59392.87</td>\n",
       "      <td>57762.24</td>\n",
       "      <td>1630.63</td>\n",
       "    </tr>\n",
       "    <tr>\n",
       "      <th>32020</th>\n",
       "      <td>FFSU</td>\n",
       "      <td>AK</td>\n",
       "      <td>2143480</td>\n",
       "      <td>2</td>\n",
       "      <td>1434</td>\n",
       "      <td>80.0</td>\n",
       "      <td>2019</td>\n",
       "      <td>1</td>\n",
       "      <td>False</td>\n",
       "      <td>TRULICITY</td>\n",
       "      <td>98.0</td>\n",
       "      <td>49.0</td>\n",
       "      <td>35072.64</td>\n",
       "      <td>34000.13</td>\n",
       "      <td>1072.51</td>\n",
       "    </tr>\n",
       "  </tbody>\n",
       "</table>\n",
       "</div>"
      ],
      "text/plain": [
       "      utilization_type state      ndc  labeler_code  product_code  \\\n",
       "1                 FFSU    AK  2143480             2          1434   \n",
       "10638             FFSU    AK  2143480             2          1434   \n",
       "21363             FFSU    AK  2143480             2          1434   \n",
       "32020             FFSU    AK  2143480             2          1434   \n",
       "\n",
       "       package_size  year  quarter  suppression_used product_name  \\\n",
       "1              80.0  2019        4             False   TRULICITY    \n",
       "10638          80.0  2019        3             False   TRULICITY    \n",
       "21363          80.0  2019        2             False   TRULICITY    \n",
       "32020          80.0  2019        1             False   TRULICITY    \n",
       "\n",
       "       units_reimbursed  number_of_prescriptions  total_amount_reimbursed  \\\n",
       "1                 262.0                    131.0                 95679.25   \n",
       "10638             220.0                    110.0                 80252.04   \n",
       "21363             162.0                     81.0                 59392.87   \n",
       "32020              98.0                     49.0                 35072.64   \n",
       "\n",
       "       medicaid_amount_reimbursed  non_medicaid_amount_reimbursed  \n",
       "1                        92129.08                         3550.17  \n",
       "10638                    77907.68                         2344.36  \n",
       "21363                    57762.24                         1630.63  \n",
       "32020                    34000.13                         1072.51  "
      ]
     },
     "execution_count": 10,
     "metadata": {},
     "output_type": "execute_result"
    }
   ],
   "source": [
    "df[(df.ndc==2143480)&(df.state=='AK')]"
   ]
  },
  {
   "cell_type": "markdown",
   "id": "1ef0a140",
   "metadata": {},
   "source": [
    "Product names are more human readable than ndc codes so let's see how many we're dealing with."
   ]
  },
  {
   "cell_type": "code",
   "execution_count": 27,
   "id": "f3a64e76",
   "metadata": {},
   "outputs": [
    {
     "data": {
      "text/plain": [
       "array(['TRULICITY '], dtype=object)"
      ]
     },
     "execution_count": 27,
     "metadata": {},
     "output_type": "execute_result"
    }
   ],
   "source": [
    "# let's look at a specific record\n",
    "df[df.ndc==2143380]['product_name'].unique()"
   ]
  },
  {
   "cell_type": "markdown",
   "id": "f6cd9143",
   "metadata": {},
   "source": [
    "Padding can be kind of a pain.  Let's strip that out and see if that changes our unique count"
   ]
  },
  {
   "cell_type": "code",
   "execution_count": 28,
   "id": "3f0e447c",
   "metadata": {},
   "outputs": [
    {
     "data": {
      "text/plain": [
       "15248"
      ]
     },
     "execution_count": 28,
     "metadata": {},
     "output_type": "execute_result"
    }
   ],
   "source": [
    "# count of unique product_name before blanks stripped out\n",
    "len(df['product_name'].unique())"
   ]
  },
  {
   "cell_type": "code",
   "execution_count": 29,
   "id": "e8206f93",
   "metadata": {},
   "outputs": [
    {
     "data": {
      "text/plain": [
       "15248"
      ]
     },
     "execution_count": 29,
     "metadata": {},
     "output_type": "execute_result"
    }
   ],
   "source": [
    "df['product_name'] = df['product_name'].str.strip()\n",
    "\n",
    "# count of unique product_name before blanks stripped out - should be the same as above\n",
    "len(df['product_name'].unique())"
   ]
  },
  {
   "cell_type": "markdown",
   "id": "4fbc47c2",
   "metadata": {},
   "source": [
    "Since no ill effects (before/after counts are the same), we'll include stripping the padding in our cleaning step (clean.py) as it will dealing with product name queries a little easier."
   ]
  },
  {
   "cell_type": "markdown",
   "id": "7d1fe4bf",
   "metadata": {},
   "source": [
    "### General data set stats"
   ]
  },
  {
   "cell_type": "code",
   "execution_count": 30,
   "id": "4d9db268",
   "metadata": {},
   "outputs": [
    {
     "data": {
      "text/html": [
       "<div>\n",
       "<style scoped>\n",
       "    .dataframe tbody tr th:only-of-type {\n",
       "        vertical-align: middle;\n",
       "    }\n",
       "\n",
       "    .dataframe tbody tr th {\n",
       "        vertical-align: top;\n",
       "    }\n",
       "\n",
       "    .dataframe thead th {\n",
       "        text-align: right;\n",
       "    }\n",
       "</style>\n",
       "<table border=\"1\" class=\"dataframe\">\n",
       "  <thead>\n",
       "    <tr style=\"text-align: right;\">\n",
       "      <th></th>\n",
       "      <th>ndc</th>\n",
       "      <th>labeler_code</th>\n",
       "      <th>product_code</th>\n",
       "      <th>package_size</th>\n",
       "      <th>year</th>\n",
       "      <th>quarter</th>\n",
       "      <th>units_reimbursed</th>\n",
       "      <th>number_of_prescriptions</th>\n",
       "      <th>total_amount_reimbursed</th>\n",
       "      <th>medicaid_amount_reimbursed</th>\n",
       "      <th>non_medicaid_amount_reimbursed</th>\n",
       "    </tr>\n",
       "  </thead>\n",
       "  <tbody>\n",
       "    <tr>\n",
       "      <th>count</th>\n",
       "      <td>4.948336e+06</td>\n",
       "      <td>4.948336e+06</td>\n",
       "      <td>4.948336e+06</td>\n",
       "      <td>4.948334e+06</td>\n",
       "      <td>4948336.0</td>\n",
       "      <td>4.948336e+06</td>\n",
       "      <td>2.518495e+06</td>\n",
       "      <td>2.518495e+06</td>\n",
       "      <td>2.518495e+06</td>\n",
       "      <td>2.518495e+06</td>\n",
       "      <td>2.518495e+06</td>\n",
       "    </tr>\n",
       "    <tr>\n",
       "      <th>mean</th>\n",
       "      <td>3.469653e+10</td>\n",
       "      <td>3.469665e+04</td>\n",
       "      <td>1.493848e+03</td>\n",
       "      <td>2.249450e+01</td>\n",
       "      <td>2019.0</td>\n",
       "      <td>2.499867e+00</td>\n",
       "      <td>3.534084e+04</td>\n",
       "      <td>5.821268e+02</td>\n",
       "      <td>5.636209e+04</td>\n",
       "      <td>5.368569e+04</td>\n",
       "      <td>2.676403e+03</td>\n",
       "    </tr>\n",
       "    <tr>\n",
       "      <th>std</th>\n",
       "      <td>2.846041e+10</td>\n",
       "      <td>2.846052e+04</td>\n",
       "      <td>2.237929e+03</td>\n",
       "      <td>2.747396e+01</td>\n",
       "      <td>0.0</td>\n",
       "      <td>1.120011e+00</td>\n",
       "      <td>5.513550e+05</td>\n",
       "      <td>5.463931e+03</td>\n",
       "      <td>9.491931e+05</td>\n",
       "      <td>9.301194e+05</td>\n",
       "      <td>8.684107e+04</td>\n",
       "    </tr>\n",
       "    <tr>\n",
       "      <th>min</th>\n",
       "      <td>2.750000e+02</td>\n",
       "      <td>2.000000e+00</td>\n",
       "      <td>0.000000e+00</td>\n",
       "      <td>0.000000e+00</td>\n",
       "      <td>2019.0</td>\n",
       "      <td>1.000000e+00</td>\n",
       "      <td>1.000000e-03</td>\n",
       "      <td>1.100000e+01</td>\n",
       "      <td>0.000000e+00</td>\n",
       "      <td>0.000000e+00</td>\n",
       "      <td>0.000000e+00</td>\n",
       "    </tr>\n",
       "    <tr>\n",
       "      <th>25%</th>\n",
       "      <td>5.910860e+08</td>\n",
       "      <td>5.910000e+02</td>\n",
       "      <td>1.920000e+02</td>\n",
       "      <td>1.000000e+00</td>\n",
       "      <td>2019.0</td>\n",
       "      <td>1.000000e+00</td>\n",
       "      <td>7.500000e+02</td>\n",
       "      <td>2.200000e+01</td>\n",
       "      <td>4.015800e+02</td>\n",
       "      <td>3.817100e+02</td>\n",
       "      <td>0.000000e+00</td>\n",
       "    </tr>\n",
       "    <tr>\n",
       "      <th>50%</th>\n",
       "      <td>4.359802e+10</td>\n",
       "      <td>4.359800e+04</td>\n",
       "      <td>5.190000e+02</td>\n",
       "      <td>1.000000e+01</td>\n",
       "      <td>2019.0</td>\n",
       "      <td>3.000000e+00</td>\n",
       "      <td>2.260000e+03</td>\n",
       "      <td>5.600000e+01</td>\n",
       "      <td>1.487230e+03</td>\n",
       "      <td>1.409310e+03</td>\n",
       "      <td>0.000000e+00</td>\n",
       "    </tr>\n",
       "    <tr>\n",
       "      <th>75%</th>\n",
       "      <td>6.275600e+10</td>\n",
       "      <td>6.275600e+04</td>\n",
       "      <td>1.346000e+03</td>\n",
       "      <td>3.100000e+01</td>\n",
       "      <td>2019.0</td>\n",
       "      <td>4.000000e+00</td>\n",
       "      <td>9.019750e+03</td>\n",
       "      <td>1.970000e+02</td>\n",
       "      <td>7.240890e+03</td>\n",
       "      <td>6.819010e+03</td>\n",
       "      <td>5.850000e+01</td>\n",
       "    </tr>\n",
       "    <tr>\n",
       "      <th>max</th>\n",
       "      <td>1.000000e+11</td>\n",
       "      <td>9.999900e+04</td>\n",
       "      <td>9.999000e+03</td>\n",
       "      <td>9.900000e+01</td>\n",
       "      <td>2019.0</td>\n",
       "      <td>4.000000e+00</td>\n",
       "      <td>2.104298e+08</td>\n",
       "      <td>1.723822e+06</td>\n",
       "      <td>2.308751e+08</td>\n",
       "      <td>2.297294e+08</td>\n",
       "      <td>4.896210e+07</td>\n",
       "    </tr>\n",
       "  </tbody>\n",
       "</table>\n",
       "</div>"
      ],
      "text/plain": [
       "                ndc  labeler_code  product_code  package_size       year  \\\n",
       "count  4.948336e+06  4.948336e+06  4.948336e+06  4.948334e+06  4948336.0   \n",
       "mean   3.469653e+10  3.469665e+04  1.493848e+03  2.249450e+01     2019.0   \n",
       "std    2.846041e+10  2.846052e+04  2.237929e+03  2.747396e+01        0.0   \n",
       "min    2.750000e+02  2.000000e+00  0.000000e+00  0.000000e+00     2019.0   \n",
       "25%    5.910860e+08  5.910000e+02  1.920000e+02  1.000000e+00     2019.0   \n",
       "50%    4.359802e+10  4.359800e+04  5.190000e+02  1.000000e+01     2019.0   \n",
       "75%    6.275600e+10  6.275600e+04  1.346000e+03  3.100000e+01     2019.0   \n",
       "max    1.000000e+11  9.999900e+04  9.999000e+03  9.900000e+01     2019.0   \n",
       "\n",
       "            quarter  units_reimbursed  number_of_prescriptions  \\\n",
       "count  4.948336e+06      2.518495e+06             2.518495e+06   \n",
       "mean   2.499867e+00      3.534084e+04             5.821268e+02   \n",
       "std    1.120011e+00      5.513550e+05             5.463931e+03   \n",
       "min    1.000000e+00      1.000000e-03             1.100000e+01   \n",
       "25%    1.000000e+00      7.500000e+02             2.200000e+01   \n",
       "50%    3.000000e+00      2.260000e+03             5.600000e+01   \n",
       "75%    4.000000e+00      9.019750e+03             1.970000e+02   \n",
       "max    4.000000e+00      2.104298e+08             1.723822e+06   \n",
       "\n",
       "       total_amount_reimbursed  medicaid_amount_reimbursed  \\\n",
       "count             2.518495e+06                2.518495e+06   \n",
       "mean              5.636209e+04                5.368569e+04   \n",
       "std               9.491931e+05                9.301194e+05   \n",
       "min               0.000000e+00                0.000000e+00   \n",
       "25%               4.015800e+02                3.817100e+02   \n",
       "50%               1.487230e+03                1.409310e+03   \n",
       "75%               7.240890e+03                6.819010e+03   \n",
       "max               2.308751e+08                2.297294e+08   \n",
       "\n",
       "       non_medicaid_amount_reimbursed  \n",
       "count                    2.518495e+06  \n",
       "mean                     2.676403e+03  \n",
       "std                      8.684107e+04  \n",
       "min                      0.000000e+00  \n",
       "25%                      0.000000e+00  \n",
       "50%                      0.000000e+00  \n",
       "75%                      5.850000e+01  \n",
       "max                      4.896210e+07  "
      ]
     },
     "execution_count": 30,
     "metadata": {},
     "output_type": "execute_result"
    }
   ],
   "source": [
    "df.describe()"
   ]
  },
  {
   "cell_type": "markdown",
   "id": "4f30ef0c",
   "metadata": {},
   "source": [
    "The first thing I notice is while there are 5M rows, only about 1/2 of them have entries for: \n",
    "* units_reimbursed\n",
    "* number_of_prescriptions\n",
    "* total_amount_reimbursed\n",
    "* medicaid_amount_reimbursed\n",
    "* non_medicaid_amount_reimbursed\n",
    "\n",
    "These seem to correlate with suppression_used as false.  To confirm, we'll perform the following two tests\n",
    "1. Whenever suppression_used is true, all the above fields are na (no non na fields)\n",
    "2. Whenever suppression_used is false, none of the above fields are na (no na fields)"
   ]
  },
  {
   "cell_type": "markdown",
   "id": "9a24bb47",
   "metadata": {},
   "source": [
    "##### 1. Whenever suppression_used is true, all the above fields are na (no non na fields)"
   ]
  },
  {
   "cell_type": "code",
   "execution_count": 31,
   "id": "4630bd48",
   "metadata": {},
   "outputs": [
    {
     "data": {
      "text/plain": [
       "2429841"
      ]
     },
     "execution_count": 31,
     "metadata": {},
     "output_type": "execute_result"
    }
   ],
   "source": [
    "# ensure count of suppression_used==True > 0\n",
    "df[df['suppression_used']].shape[0]"
   ]
  },
  {
   "cell_type": "code",
   "execution_count": 32,
   "id": "8d90318f",
   "metadata": {},
   "outputs": [
    {
     "data": {
      "text/plain": [
       "0"
      ]
     },
     "execution_count": 32,
     "metadata": {},
     "output_type": "execute_result"
    }
   ],
   "source": [
    "# Find the intersection of suppression_used and any non-na values\n",
    "# A count of 0 means no overlap between supression true and any other of specified fields having a non-na value\n",
    "\n",
    "df[(df['suppression_used']) & \n",
    "   (\n",
    "       (~df['number_of_prescriptions'].isna()) | \n",
    "       (~df['units_reimbursed'].isna()) | \n",
    "       (~df['total_amount_reimbursed'].isna()) |\n",
    "       (~df['medicaid_amount_reimbursed'].isna()) |\n",
    "       (~df['non_medicaid_amount_reimbursed'].isna()) \n",
    ")].shape[0]"
   ]
  },
  {
   "cell_type": "markdown",
   "id": "46557545",
   "metadata": {},
   "source": [
    "##### 2. Whenever suppression_used is false, none of the above fields are na (no na fields)"
   ]
  },
  {
   "cell_type": "code",
   "execution_count": 33,
   "id": "d0f8a63f",
   "metadata": {},
   "outputs": [
    {
     "data": {
      "text/plain": [
       "2518495"
      ]
     },
     "execution_count": 33,
     "metadata": {},
     "output_type": "execute_result"
    }
   ],
   "source": [
    "# ensure count of suppression_used==False > 0\n",
    "df[~df['suppression_used']].shape[0]"
   ]
  },
  {
   "cell_type": "code",
   "execution_count": 34,
   "id": "d9395be2",
   "metadata": {},
   "outputs": [
    {
     "data": {
      "text/plain": [
       "0"
      ]
     },
     "execution_count": 34,
     "metadata": {},
     "output_type": "execute_result"
    }
   ],
   "source": [
    "# Find the intersection of suppression_used==False and any na values\n",
    "# A count of 0 means no overlap between supression false and any other of specified fields with value of na\n",
    "\n",
    "df[(~df['suppression_used']) & \n",
    "   (\n",
    "       (df['number_of_prescriptions'].isna()) | \n",
    "       (df['units_reimbursed'].isna()) | \n",
    "       (df['total_amount_reimbursed'].isna()) |\n",
    "       (df['medicaid_amount_reimbursed'].isna()) |\n",
    "       (df['non_medicaid_amount_reimbursed'].isna()) \n",
    ")].shape[0]"
   ]
  },
  {
   "cell_type": "markdown",
   "id": "7e5bbee1",
   "metadata": {},
   "source": [
    "#### Conclusion\n",
    "suppression_used can be used as a filter to determine if the above mentioned fields will have a non-na value"
   ]
  },
  {
   "cell_type": "code",
   "execution_count": null,
   "id": "1157ec14",
   "metadata": {},
   "outputs": [],
   "source": []
  }
 ],
 "metadata": {
  "kernelspec": {
   "display_name": "mads-kernel",
   "language": "python",
   "name": "mads-kernel"
  },
  "language_info": {
   "codemirror_mode": {
    "name": "ipython",
    "version": 3
   },
   "file_extension": ".py",
   "mimetype": "text/x-python",
   "name": "python",
   "nbconvert_exporter": "python",
   "pygments_lexer": "ipython3",
   "version": "3.8.13"
  }
 },
 "nbformat": 4,
 "nbformat_minor": 5
}
